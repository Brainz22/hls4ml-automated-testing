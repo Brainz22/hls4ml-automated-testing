{
 "cells": [
  {
   "cell_type": "code",
   "execution_count": 1,
   "id": "d366d53b-37c2-4af5-bc61-14ed183b4551",
   "metadata": {},
   "outputs": [],
   "source": [
    "# Choose the layer to test\n",
    "#\n",
    "#LAYER = 'depthwise_conv2d' # \n",
    "#LAYER = 'pointwise_conv2d'\n",
    "LAYER = 'separable_conv2d' # uses both depthwise and pointwise\n",
    "#LAYER = 'depthwise_conv2d'\n",
    "RUN_HLS = True\n",
    "IO_TYPE = 'io_parallel'\n",
    "STRATEGY = 'Latency'\n",
    "BACKEND = 'Vivado'\n",
    "\n",
    "H = 23  # Input height\n",
    "W = 23   # Input width\n",
    "FXD_W = 8 # Fixed-point precision, word bit width\n",
    "FXD_I = 3 # Fixed-point precision, integer-part bit width\n",
    "reuseFactor = 1\n",
    "parallelFactor = 1\n",
    "\n",
    "\n",
    "Din = 2  # Input # of channels     --------------> Not moving\n",
    "Fh = 3   # Kernel height    -------------> Not moving\n",
    "Fw = 3  # Kernel width  -------------- > Not moving\n",
    "Dout = 5 # Kernel # of filters --------------> Not moving"
   ]
  },
  {
   "cell_type": "code",
   "execution_count": null,
   "id": "e6a6d87b",
   "metadata": {},
   "outputs": [],
   "source": []
  },
  {
   "cell_type": "code",
   "execution_count": 2,
   "id": "57dd88be-425d-453a-9c14-82a72d4dafcc",
   "metadata": {},
   "outputs": [
    {
     "name": "stderr",
     "output_type": "stream",
     "text": [
      "2024-07-22 19:05:13.149241: I tensorflow/core/platform/cpu_feature_guard.cc:193] This TensorFlow binary is optimized with oneAPI Deep Neural Network Library (oneDNN) to use the following CPU instructions in performance-critical operations:  SSE4.1 SSE4.2 AVX AVX2 FMA\n",
      "To enable them in other operations, rebuild TensorFlow with the appropriate compiler flags.\n"
     ]
    }
   ],
   "source": [
    "import tensorflow as tf\n",
    "from tensorflow.keras import datasets, layers, models\n",
    "\n",
    "from tensorflow import keras\n",
    "from tensorflow.keras.layers import Input, Flatten\n",
    "\n",
    "from tensorflow.keras.models import Sequential\n",
    "\n",
    "from qkeras import *"
   ]
  },
  {
   "cell_type": "code",
   "execution_count": 3,
   "id": "41de8458-914a-4249-8ef8-e85d73f0d142",
   "metadata": {},
   "outputs": [],
   "source": [
    "import os"
   ]
  },
  {
   "cell_type": "code",
   "execution_count": 4,
   "id": "f2ecb102-3af5-47a6-bb1c-cd1aa2e7f72f",
   "metadata": {},
   "outputs": [],
   "source": [
    "#os.environ['PATH'] = '/home/xilinx/Vivado/2019.1/bin:' + os.environ['PATH'] "
   ]
  },
  {
   "cell_type": "code",
   "execution_count": 5,
   "id": "e4624c6d-0057-4d34-8c30-f68b0119e7d4",
   "metadata": {},
   "outputs": [],
   "source": [
    "os.environ['PATH'] = '/data/software/xilinx/Vivado/2020.1/bin:' + os.environ['PATH'] #Mulder"
   ]
  },
  {
   "cell_type": "code",
   "execution_count": 6,
   "id": "81797942",
   "metadata": {},
   "outputs": [
    {
     "data": {
      "text/plain": [
       "'separable_conv2d'"
      ]
     },
     "execution_count": 6,
     "metadata": {},
     "output_type": "execute_result"
    }
   ],
   "source": [
    "LAYER"
   ]
  },
  {
   "cell_type": "code",
   "execution_count": 7,
   "id": "8b305cee",
   "metadata": {},
   "outputs": [
    {
     "name": "stdout",
     "output_type": "stream",
     "text": [
      "2020.1\t2023.2\n"
     ]
    }
   ],
   "source": [
    "!ls /data/software/xilinx/Vitis/"
   ]
  },
  {
   "attachments": {},
   "cell_type": "markdown",
   "id": "63859eca",
   "metadata": {},
   "source": [
    "kmodel..."
   ]
  },
  {
   "cell_type": "code",
   "execution_count": 8,
   "id": "825c44d1-8a2e-4a72-90de-42fb1794aa1b",
   "metadata": {},
   "outputs": [],
   "source": [
    "def CreateKerasModel(layer, input_shape, kernel_size, filters):\n",
    " \n",
    "    x_in = Input(input_shape, name='input_1')\n",
    "    if layer == 'depthwise_conv2d':\n",
    "        x = DepthwiseConv2D(\n",
    "            kernel_size=kernel_size,\n",
    "            use_bias=False,\n",
    "            depthwise_initializer=tf.keras.initializers.Ones(), # makes debugging easy\n",
    "            bias_initializer=tf.keras.initializers.Zeros(), # makes debugging easy\n",
    "            name='depthwise_conv2d'\n",
    "        )(x_in)\n",
    "    elif layer == 'pointwise_conv2d':\n",
    "        x_out = Conv2D(\n",
    "            filters=filters,\n",
    "            kernel_size=(1,1),\n",
    "            use_bias=False,\n",
    "            kernel_initializer=tf.keras.initializers.Ones(), # makes debugging easy\n",
    "            bias_initializer=tf.keras.initializers.Zeros(), # makes debugging easy\n",
    "            name='pointwise_conv2d'\n",
    "        )(x_in)\n",
    "    else:\n",
    "        x= SeparableConv2D(\n",
    "            filters=filters,\n",
    "            kernel_size=kernel_size,\n",
    "            use_bias=False,\n",
    "            depthwise_initializer=tf.keras.initializers.Ones(), # makes debugging easy\n",
    "            pointwise_initializer=tf.keras.initializers.Ones(), # makes debugging easy\n",
    "            name = 'separable_conv2d'\n",
    "    )(x_in)\n",
    "    x = Flatten()(x)\n",
    "    x_out = Dense(2)(x)\n",
    "    kmodel = Model(inputs=x_in, outputs=x_out)\n",
    "    return kmodel"
   ]
  },
  {
   "cell_type": "code",
   "execution_count": 9,
   "id": "275eaf60-ad82-4e52-ae07-b0f3d4c2706c",
   "metadata": {},
   "outputs": [
    {
     "name": "stdout",
     "output_type": "stream",
     "text": [
      "Model: \"model\"\n",
      "_________________________________________________________________\n",
      " Layer (type)                Output Shape              Param #   \n",
      "=================================================================\n",
      " input_1 (InputLayer)        [(None, 23, 23, 2)]       0         \n",
      "                                                                 \n",
      " separable_conv2d (Separable  (None, 21, 21, 5)        28        \n",
      " Conv2D)                                                         \n",
      "                                                                 \n",
      " flatten (Flatten)           (None, 2205)              0         \n",
      "                                                                 \n",
      " dense (Dense)               (None, 2)                 4412      \n",
      "                                                                 \n",
      "=================================================================\n",
      "Total params: 4,440\n",
      "Trainable params: 4,440\n",
      "Non-trainable params: 0\n",
      "_________________________________________________________________\n"
     ]
    },
    {
     "name": "stderr",
     "output_type": "stream",
     "text": [
      "2024-07-22 19:05:22.989475: I tensorflow/core/platform/cpu_feature_guard.cc:193] This TensorFlow binary is optimized with oneAPI Deep Neural Network Library (oneDNN) to use the following CPU instructions in performance-critical operations:  SSE4.1 SSE4.2 AVX AVX2 FMA\n",
      "To enable them in other operations, rebuild TensorFlow with the appropriate compiler flags.\n"
     ]
    }
   ],
   "source": [
    "kmodel = CreateKerasModel(LAYER, input_shape=(H,W,Din), kernel_size=(Fh, Fw), filters=Dout)\n",
    "kmodel.summary()"
   ]
  },
  {
   "cell_type": "code",
   "execution_count": 10,
   "id": "b69baffc",
   "metadata": {},
   "outputs": [],
   "source": [
    "import numpy as np"
   ]
  },
  {
   "cell_type": "code",
   "execution_count": 11,
   "id": "eb223f47",
   "metadata": {},
   "outputs": [],
   "source": [
    "X_train = np.random.rand(10,H,W,Din)  \n",
    "y_train = np.random.randint(2, size=(10,))"
   ]
  },
  {
   "cell_type": "code",
   "execution_count": 12,
   "id": "b1c288af",
   "metadata": {},
   "outputs": [
    {
     "data": {
      "text/plain": [
       "array([1, 0, 0, 0, 0, 1, 0, 1, 1, 1])"
      ]
     },
     "execution_count": 12,
     "metadata": {},
     "output_type": "execute_result"
    }
   ],
   "source": [
    "y_train"
   ]
  },
  {
   "cell_type": "code",
   "execution_count": 13,
   "id": "49d78aed",
   "metadata": {},
   "outputs": [],
   "source": [
    "#X = np.random.rand(1000, 10)  # 1000 samples with 10 features\n",
    "#Y = np.random.randint(2, size=(1000,))  # Binary labels (0 or 1)\n"
   ]
  },
  {
   "cell_type": "code",
   "execution_count": 14,
   "id": "012c9806",
   "metadata": {},
   "outputs": [],
   "source": [
    "import tensorflow"
   ]
  },
  {
   "cell_type": "code",
   "execution_count": 15,
   "id": "95245bd4",
   "metadata": {},
   "outputs": [],
   "source": [
    "kmodel.compile(loss=\"binary_crossentropy\", optimizer=tensorflow.keras.optimizers.Adam(\n",
    "    learning_rate=0.001), metrics=[\"binary_accuracy\"])\n"
   ]
  },
  {
   "cell_type": "code",
   "execution_count": 16,
   "id": "c944018d",
   "metadata": {},
   "outputs": [
    {
     "name": "stdout",
     "output_type": "stream",
     "text": [
      "Model: \"model\"\n",
      "_________________________________________________________________\n",
      " Layer (type)                Output Shape              Param #   \n",
      "=================================================================\n",
      " input_1 (InputLayer)        [(None, 23, 23, 2)]       0         \n",
      "                                                                 \n",
      " separable_conv2d (Separable  (None, 21, 21, 5)        28        \n",
      " Conv2D)                                                         \n",
      "                                                                 \n",
      " flatten (Flatten)           (None, 2205)              0         \n",
      "                                                                 \n",
      " dense (Dense)               (None, 2)                 4412      \n",
      "                                                                 \n",
      "=================================================================\n",
      "Total params: 4,440\n",
      "Trainable params: 4,440\n",
      "Non-trainable params: 0\n",
      "_________________________________________________________________\n"
     ]
    }
   ],
   "source": [
    "kmodel.summary()"
   ]
  },
  {
   "cell_type": "code",
   "execution_count": 17,
   "id": "522e9cbf",
   "metadata": {},
   "outputs": [],
   "source": [
    "callback = tensorflow.keras.callbacks.EarlyStopping(monitor=\"val_loss\", verbose=1, patience=100)"
   ]
  },
  {
   "cell_type": "code",
   "execution_count": 18,
   "id": "bc30765b",
   "metadata": {},
   "outputs": [
    {
     "name": "stdout",
     "output_type": "stream",
     "text": [
      "Epoch 1/50\n",
      "1/1 - 1s - loss: 7.6576 - binary_accuracy: 0.5000 - val_loss: 7.7125 - val_binary_accuracy: 0.5000 - 564ms/epoch - 564ms/step\n",
      "Epoch 2/50\n",
      "1/1 - 0s - loss: 7.6576 - binary_accuracy: 0.5000 - val_loss: 7.7125 - val_binary_accuracy: 0.5000 - 27ms/epoch - 27ms/step\n",
      "Epoch 3/50\n",
      "1/1 - 0s - loss: 7.6576 - binary_accuracy: 0.5000 - val_loss: 7.7125 - val_binary_accuracy: 0.5000 - 26ms/epoch - 26ms/step\n",
      "Epoch 4/50\n",
      "1/1 - 0s - loss: 7.6576 - binary_accuracy: 0.5000 - val_loss: 7.7125 - val_binary_accuracy: 0.5000 - 26ms/epoch - 26ms/step\n",
      "Epoch 5/50\n",
      "1/1 - 0s - loss: 7.6576 - binary_accuracy: 0.5000 - val_loss: 7.7125 - val_binary_accuracy: 0.5000 - 26ms/epoch - 26ms/step\n",
      "Epoch 6/50\n",
      "1/1 - 0s - loss: 7.6576 - binary_accuracy: 0.5000 - val_loss: 7.7125 - val_binary_accuracy: 0.5000 - 26ms/epoch - 26ms/step\n",
      "Epoch 7/50\n",
      "1/1 - 0s - loss: 7.6576 - binary_accuracy: 0.5000 - val_loss: 7.7125 - val_binary_accuracy: 0.5000 - 26ms/epoch - 26ms/step\n",
      "Epoch 8/50\n",
      "1/1 - 0s - loss: 7.6576 - binary_accuracy: 0.5000 - val_loss: 7.7125 - val_binary_accuracy: 0.5000 - 26ms/epoch - 26ms/step\n",
      "Epoch 9/50\n",
      "1/1 - 0s - loss: 7.6576 - binary_accuracy: 0.5000 - val_loss: 7.7125 - val_binary_accuracy: 0.5000 - 26ms/epoch - 26ms/step\n",
      "Epoch 10/50\n",
      "1/1 - 0s - loss: 7.6576 - binary_accuracy: 0.5000 - val_loss: 7.7125 - val_binary_accuracy: 0.5000 - 26ms/epoch - 26ms/step\n",
      "Epoch 11/50\n",
      "1/1 - 0s - loss: 7.6576 - binary_accuracy: 0.5000 - val_loss: 7.7125 - val_binary_accuracy: 0.5000 - 26ms/epoch - 26ms/step\n",
      "Epoch 12/50\n",
      "1/1 - 0s - loss: 7.6576 - binary_accuracy: 0.5000 - val_loss: 7.7125 - val_binary_accuracy: 0.5000 - 27ms/epoch - 27ms/step\n",
      "Epoch 13/50\n",
      "1/1 - 0s - loss: 7.6576 - binary_accuracy: 0.5000 - val_loss: 7.7125 - val_binary_accuracy: 0.5000 - 26ms/epoch - 26ms/step\n",
      "Epoch 14/50\n",
      "1/1 - 0s - loss: 7.6576 - binary_accuracy: 0.5000 - val_loss: 7.7125 - val_binary_accuracy: 0.5000 - 26ms/epoch - 26ms/step\n",
      "Epoch 15/50\n",
      "1/1 - 0s - loss: 7.6576 - binary_accuracy: 0.5000 - val_loss: 7.7125 - val_binary_accuracy: 0.5000 - 26ms/epoch - 26ms/step\n",
      "Epoch 16/50\n",
      "1/1 - 0s - loss: 7.6576 - binary_accuracy: 0.5000 - val_loss: 7.7125 - val_binary_accuracy: 0.5000 - 26ms/epoch - 26ms/step\n",
      "Epoch 17/50\n",
      "1/1 - 0s - loss: 7.6576 - binary_accuracy: 0.5000 - val_loss: 7.7125 - val_binary_accuracy: 0.5000 - 26ms/epoch - 26ms/step\n",
      "Epoch 18/50\n",
      "1/1 - 0s - loss: 7.6576 - binary_accuracy: 0.5000 - val_loss: 7.7125 - val_binary_accuracy: 0.5000 - 26ms/epoch - 26ms/step\n",
      "Epoch 19/50\n",
      "1/1 - 0s - loss: 7.6576 - binary_accuracy: 0.5000 - val_loss: 7.7125 - val_binary_accuracy: 0.5000 - 26ms/epoch - 26ms/step\n",
      "Epoch 20/50\n",
      "1/1 - 0s - loss: 7.6576 - binary_accuracy: 0.5000 - val_loss: 7.7125 - val_binary_accuracy: 0.5000 - 26ms/epoch - 26ms/step\n",
      "Epoch 21/50\n",
      "1/1 - 0s - loss: 7.6576 - binary_accuracy: 0.5000 - val_loss: 7.7125 - val_binary_accuracy: 0.5000 - 26ms/epoch - 26ms/step\n",
      "Epoch 22/50\n",
      "1/1 - 0s - loss: 7.6576 - binary_accuracy: 0.5000 - val_loss: 7.7125 - val_binary_accuracy: 0.5000 - 25ms/epoch - 25ms/step\n",
      "Epoch 23/50\n",
      "1/1 - 0s - loss: 7.6576 - binary_accuracy: 0.5000 - val_loss: 7.7125 - val_binary_accuracy: 0.5000 - 26ms/epoch - 26ms/step\n",
      "Epoch 24/50\n",
      "1/1 - 0s - loss: 7.6576 - binary_accuracy: 0.5000 - val_loss: 7.7125 - val_binary_accuracy: 0.5000 - 25ms/epoch - 25ms/step\n",
      "Epoch 25/50\n",
      "1/1 - 0s - loss: 7.6576 - binary_accuracy: 0.5000 - val_loss: 7.7125 - val_binary_accuracy: 0.5000 - 25ms/epoch - 25ms/step\n",
      "Epoch 26/50\n",
      "1/1 - 0s - loss: 7.6576 - binary_accuracy: 0.5000 - val_loss: 7.7125 - val_binary_accuracy: 0.5000 - 25ms/epoch - 25ms/step\n",
      "Epoch 27/50\n",
      "1/1 - 0s - loss: 7.6576 - binary_accuracy: 0.5000 - val_loss: 7.7125 - val_binary_accuracy: 0.5000 - 26ms/epoch - 26ms/step\n",
      "Epoch 28/50\n",
      "1/1 - 0s - loss: 7.6576 - binary_accuracy: 0.5000 - val_loss: 7.7125 - val_binary_accuracy: 0.5000 - 25ms/epoch - 25ms/step\n",
      "Epoch 29/50\n",
      "1/1 - 0s - loss: 7.6576 - binary_accuracy: 0.5000 - val_loss: 7.7125 - val_binary_accuracy: 0.5000 - 26ms/epoch - 26ms/step\n",
      "Epoch 30/50\n",
      "1/1 - 0s - loss: 7.6576 - binary_accuracy: 0.5000 - val_loss: 7.7125 - val_binary_accuracy: 0.5000 - 26ms/epoch - 26ms/step\n",
      "Epoch 31/50\n",
      "1/1 - 0s - loss: 7.6576 - binary_accuracy: 0.5000 - val_loss: 7.7125 - val_binary_accuracy: 0.5000 - 26ms/epoch - 26ms/step\n",
      "Epoch 32/50\n",
      "1/1 - 0s - loss: 7.6576 - binary_accuracy: 0.5000 - val_loss: 7.7125 - val_binary_accuracy: 0.5000 - 26ms/epoch - 26ms/step\n",
      "Epoch 33/50\n",
      "1/1 - 0s - loss: 7.6576 - binary_accuracy: 0.5000 - val_loss: 7.7125 - val_binary_accuracy: 0.5000 - 26ms/epoch - 26ms/step\n",
      "Epoch 34/50\n",
      "1/1 - 0s - loss: 7.6576 - binary_accuracy: 0.5000 - val_loss: 7.7125 - val_binary_accuracy: 0.5000 - 26ms/epoch - 26ms/step\n",
      "Epoch 35/50\n",
      "1/1 - 0s - loss: 7.6576 - binary_accuracy: 0.5000 - val_loss: 7.7125 - val_binary_accuracy: 0.5000 - 26ms/epoch - 26ms/step\n",
      "Epoch 36/50\n",
      "1/1 - 0s - loss: 7.6576 - binary_accuracy: 0.5000 - val_loss: 7.7125 - val_binary_accuracy: 0.5000 - 26ms/epoch - 26ms/step\n",
      "Epoch 37/50\n",
      "1/1 - 0s - loss: 7.6576 - binary_accuracy: 0.5000 - val_loss: 7.7125 - val_binary_accuracy: 0.5000 - 25ms/epoch - 25ms/step\n",
      "Epoch 38/50\n",
      "1/1 - 0s - loss: 7.6576 - binary_accuracy: 0.5000 - val_loss: 7.7125 - val_binary_accuracy: 0.5000 - 25ms/epoch - 25ms/step\n",
      "Epoch 39/50\n",
      "1/1 - 0s - loss: 7.6576 - binary_accuracy: 0.5000 - val_loss: 7.7125 - val_binary_accuracy: 0.5000 - 25ms/epoch - 25ms/step\n",
      "Epoch 40/50\n",
      "1/1 - 0s - loss: 7.6576 - binary_accuracy: 0.5000 - val_loss: 7.7125 - val_binary_accuracy: 0.5000 - 25ms/epoch - 25ms/step\n",
      "Epoch 41/50\n",
      "1/1 - 0s - loss: 7.6576 - binary_accuracy: 0.5000 - val_loss: 7.7125 - val_binary_accuracy: 0.5000 - 26ms/epoch - 26ms/step\n",
      "Epoch 42/50\n",
      "1/1 - 0s - loss: 7.6576 - binary_accuracy: 0.5000 - val_loss: 7.7125 - val_binary_accuracy: 0.5000 - 25ms/epoch - 25ms/step\n",
      "Epoch 43/50\n",
      "1/1 - 0s - loss: 7.6576 - binary_accuracy: 0.5000 - val_loss: 7.7125 - val_binary_accuracy: 0.5000 - 25ms/epoch - 25ms/step\n",
      "Epoch 44/50\n",
      "1/1 - 0s - loss: 7.6576 - binary_accuracy: 0.5000 - val_loss: 7.7125 - val_binary_accuracy: 0.5000 - 26ms/epoch - 26ms/step\n",
      "Epoch 45/50\n",
      "1/1 - 0s - loss: 7.6576 - binary_accuracy: 0.5000 - val_loss: 7.7125 - val_binary_accuracy: 0.5000 - 28ms/epoch - 28ms/step\n",
      "Epoch 46/50\n",
      "1/1 - 0s - loss: 7.6576 - binary_accuracy: 0.5000 - val_loss: 7.7125 - val_binary_accuracy: 0.5000 - 25ms/epoch - 25ms/step\n",
      "Epoch 47/50\n",
      "1/1 - 0s - loss: 7.6576 - binary_accuracy: 0.5000 - val_loss: 7.7125 - val_binary_accuracy: 0.5000 - 26ms/epoch - 26ms/step\n",
      "Epoch 48/50\n",
      "1/1 - 0s - loss: 7.6576 - binary_accuracy: 0.5000 - val_loss: 7.7125 - val_binary_accuracy: 0.5000 - 26ms/epoch - 26ms/step\n",
      "Epoch 49/50\n",
      "1/1 - 0s - loss: 7.6576 - binary_accuracy: 0.5000 - val_loss: 7.7125 - val_binary_accuracy: 0.5000 - 27ms/epoch - 27ms/step\n",
      "Epoch 50/50\n",
      "1/1 - 0s - loss: 7.6576 - binary_accuracy: 0.5000 - val_loss: 7.7125 - val_binary_accuracy: 0.5000 - 25ms/epoch - 25ms/step\n"
     ]
    }
   ],
   "source": [
    "history=kmodel.fit(\n",
    "    X_train,\n",
    "    y_train,\n",
    "    epochs=50,\n",
    "    batch_size=50,\n",
    "    verbose=2,\n",
    "    #sample_weight=np.asarray(weights),\n",
    "    validation_split=0.20,\n",
    "    callbacks=[callback],\n",
    ")"
   ]
  },
  {
   "cell_type": "code",
   "execution_count": 19,
   "id": "023a3cf6",
   "metadata": {},
   "outputs": [
    {
     "name": "stdout",
     "output_type": "stream",
     "text": [
      "WARN: Unable to import optimizer(s) from expr_templates.py: No module named 'sympy'\n",
      "WARNING: Failed to import handlers from convolution.py: No module named 'torch'.\n",
      "WARNING: Failed to import handlers from core.py: No module named 'torch'.\n",
      "WARNING: Failed to import handlers from merge.py: No module named 'torch'.\n",
      "WARNING: Failed to import handlers from pooling.py: No module named 'torch'.\n",
      "WARNING: Failed to import handlers from reshape.py: No module named 'torch'.\n"
     ]
    },
    {
     "name": "stderr",
     "output_type": "stream",
     "text": [
      "/home/users/russelld/VladBranch_SepConv2D/work/SepConv2D_hls4ml/Software/hls4ml/hls4ml/converters/__init__.py:27: UserWarning: WARNING: Pytorch converter is not enabled!\n",
      "  warnings.warn(\"WARNING: Pytorch converter is not enabled!\", stacklevel=1)\n"
     ]
    }
   ],
   "source": [
    "import hls4ml.utils\n",
    "import hls4ml.converters"
   ]
  },
  {
   "cell_type": "code",
   "execution_count": null,
   "id": "dc9fcc47",
   "metadata": {},
   "outputs": [],
   "source": []
  },
  {
   "cell_type": "code",
   "execution_count": null,
   "id": "aa4d5687",
   "metadata": {},
   "outputs": [],
   "source": []
  },
  {
   "cell_type": "code",
   "execution_count": 20,
   "id": "8f520ee5",
   "metadata": {},
   "outputs": [],
   "source": [
    "import hls4ml.model.profiling"
   ]
  },
  {
   "cell_type": "code",
   "execution_count": 21,
   "id": "44fb3583",
   "metadata": {},
   "outputs": [
    {
     "name": "stdout",
     "output_type": "stream",
     "text": [
      "Interpreting Model\n",
      "Topology:\n",
      "Layer name: input_1, layer type: InputLayer, input shapes: [[None, 23, 23, 2]], output shape: [None, 23, 23, 2]\n",
      "Layer name: separable_conv2d, layer type: SeparableConv2D, input shapes: [[None, 23, 23, 2]], output shape: [None, 21, 21, 5]\n",
      "Layer name: flatten, layer type: Reshape, input shapes: [[None, 21, 21, 5]], output shape: [None, 2205]\n",
      "Layer name: dense, layer type: Dense, input shapes: [[None, 2205]], output shape: [None, 2]\n",
      "-----------------------------------\n"
     ]
    }
   ],
   "source": [
    "config = hls4ml.utils.config_from_keras_model(kmodel, granularity='name')\n",
    "print(\"-----------------------------------\")"
   ]
  },
  {
   "cell_type": "code",
   "execution_count": 22,
   "id": "2d2324f4",
   "metadata": {},
   "outputs": [],
   "source": [
    "#config['LayerName']['q_input_1']['Precision']['result'] = 'fixed<{},{}>'.format(FXD_W, FXD_I)\n",
    "config['LayerName']['input_1']['Precision']['result'] = 'fixed<{},{}>'.format(FXD_W, FXD_I)\n",
    "config['Model']['Strategy'] = STRATEGY\n",
    "#config['Model']['Strategy'] = 'Resource'\n",
    "config['LayerName']['separable_conv2d']['ReuseFactor'] = reuseFactor\n",
    "config['LayerName']['separable_conv2d']['ParallelizationFactor'] = parallelFactor"
   ]
  },
  {
   "cell_type": "code",
   "execution_count": 30,
   "id": "ae0d9462",
   "metadata": {},
   "outputs": [],
   "source": [
    "#(FXD_W, FXD_I)"
   ]
  },
  {
   "cell_type": "code",
   "execution_count": 23,
   "id": "56955e0c",
   "metadata": {},
   "outputs": [
    {
     "name": "stdout",
     "output_type": "stream",
     "text": [
      "Enable tracing for layer: input_1\n",
      "Enable tracing for layer: separable_conv2d\n",
      "Enable tracing for layer: separable_conv2d_linear\n",
      "Enable tracing for layer: flatten\n",
      "Enable tracing for layer: dense\n",
      "Enable tracing for layer: dense_linear\n"
     ]
    }
   ],
   "source": [
    "for layer in config['LayerName'].keys():\n",
    "    print('Enable tracing for layer:', layer)\n",
    "    config['LayerName'][layer]['Trace'] = True"
   ]
  },
  {
   "cell_type": "code",
   "execution_count": 23,
   "id": "a79659cd",
   "metadata": {},
   "outputs": [
    {
     "name": "stdout",
     "output_type": "stream",
     "text": [
      "/home/users/russelld/VladBranch_SepConv2D/work/SepConv2D_hls4ml\n"
     ]
    }
   ],
   "source": [
    "!pwd"
   ]
  },
  {
   "cell_type": "code",
   "execution_count": 24,
   "id": "08086349",
   "metadata": {},
   "outputs": [
    {
     "name": "stdout",
     "output_type": "stream",
     "text": [
      "Interpreting Model\n",
      "Topology:\n",
      "Layer name: input_1, layer type: InputLayer, input shapes: [[None, 23, 23, 2]], output shape: [None, 23, 23, 2]\n",
      "Layer name: separable_conv2d, layer type: SeparableConv2D, input shapes: [[None, 23, 23, 2]], output shape: [None, 21, 21, 5]\n",
      "Layer name: flatten, layer type: Reshape, input shapes: [[None, 21, 21, 5]], output shape: [None, 2205]\n",
      "Layer name: dense, layer type: Dense, input shapes: [[None, 2205]], output shape: [None, 2]\n",
      "Creating HLS model\n",
      "Writing HLS project\n",
      "Done\n"
     ]
    }
   ],
   "source": [
    "hls_kmodel = hls4ml.converters.convert_from_keras_model(\n",
    "    kmodel, \n",
    "    hls_config=config, \n",
    "    output_dir=f'/home/users/russelld/VladBranch_SepConv2D/work/SepConv2D_hls4ml/HLS4ML_PROJ_sepConv2D/proj_{FXD_W}-{FXD_I}_rf_{reuseFactor}_pf_{parallelFactor}_InH{H}_InW{W}/qkmodel', \n",
    "    part='xcu250-figd2104-2L-e',\n",
    "    backend=BACKEND,\n",
    "    io_type=IO_TYPE\n",
    ")\n",
    "\n",
    "hls_kmodel.compile()"
   ]
  },
  {
   "cell_type": "code",
   "execution_count": 32,
   "id": "a43e6145",
   "metadata": {},
   "outputs": [
    {
     "data": {
      "image/png": "[encoded data removed]",
      "text/plain": [
       "<IPython.core.display.Image object>"
      ]
     },
     "execution_count": 32,
     "metadata": {},
     "output_type": "execute_result"
    }
   ],
   "source": [
    "hls4ml.utils.plot_model(hls_kmodel, show_shapes=True, show_precision=True, to_file=None)"
   ]
  },
  {
   "cell_type": "code",
   "execution_count": 26,
   "id": "ecb3ca99",
   "metadata": {},
   "outputs": [
    {
     "name": "stdout",
     "output_type": "stream",
     "text": [
      "Recompiling myproject with tracing\n",
      "Writing HLS project\n",
      "Done\n",
      "1/1 [==============================] - 0s 68ms/step\n",
      "Done taking outputs for Keras model.\n"
     ]
    }
   ],
   "source": [
    "y_hls, hls4ml_trace = hls_kmodel.trace(X_train)\n",
    "keras_trace = hls4ml.model.profiling.get_ymodel_keras(kmodel, X_train)"
   ]
  },
  {
   "cell_type": "code",
   "execution_count": 27,
   "id": "9bde4d87",
   "metadata": {},
   "outputs": [
    {
     "data": {
      "text/plain": [
       "(5000,)"
      ]
     },
     "execution_count": 27,
     "metadata": {},
     "output_type": "execute_result"
    }
   ],
   "source": [
    "hls4ml_trace[LAYER].flatten().shape"
   ]
  },
  {
   "cell_type": "code",
   "execution_count": 28,
   "id": "27b00504",
   "metadata": {},
   "outputs": [],
   "source": [
    "#LAYER='depthwise_conv2d'\n",
    "#LAYER= 'separable_conv2d'"
   ]
  },
  {
   "cell_type": "code",
   "execution_count": 29,
   "id": "3eedec49",
   "metadata": {},
   "outputs": [
    {
     "data": {
      "text/plain": [
       "(5000,)"
      ]
     },
     "execution_count": 29,
     "metadata": {},
     "output_type": "execute_result"
    }
   ],
   "source": [
    "keras_trace[LAYER].flatten().shape"
   ]
  },
  {
   "cell_type": "code",
   "execution_count": 30,
   "id": "1640729a",
   "metadata": {},
   "outputs": [],
   "source": [
    "import matplotlib.pyplot as plt\n",
    "import numpy as np"
   ]
  },
  {
   "cell_type": "code",
   "execution_count": 31,
   "id": "b4a7f8f4",
   "metadata": {},
   "outputs": [
    {
     "data": {
      "image/png": "[encoded data removed]",
      "text/plain": [
       "<Figure size 640x480 with 1 Axes>"
      ]
     },
     "metadata": {},
     "output_type": "display_data"
    }
   ],
   "source": [
    "plt.scatter(hls4ml_trace[LAYER].flatten(), keras_trace[LAYER].flatten(), s=0.8)\n",
    "min_x = min(np.amin(hls4ml_trace[LAYER]), np.amin(keras_trace[LAYER]))\n",
    "max_x = max(np.amax(hls4ml_trace[LAYER]), np.amax(keras_trace[LAYER]))\n",
    "plt.plot([min_x, max_x], [min_x, max_x], c='gray')\n",
    "plt.xlabel('hls4ml {}, fixed<{},{}>'.format(LAYER,FXD_W, FXD_I))\n",
    "#plt.xlabel('hls4ml {}'.format(LAYER))\n",
    "plt.ylabel('Keras {}'.format(LAYER))\n",
    "#plt.savefig(f\"LayerTraces/Traces_Precision_{FXD_W}-{FXD_I}_rf_{reuseFactor}_pf_{parallelFactor}_InH{H}_InW{W}.png\")\n",
    "plt.savefig(f\"/home/users/russelld/VladBranch_SepConv2D/work/SepConv2D_hls4ml/HLS4ML_PROJ_sepConv2D/proj_{FXD_W}-{FXD_I}_rf_{reuseFactor}_pf_{parallelFactor}_InH{H}_InW{W}/traces.png\")"
   ]
  },
  {
   "cell_type": "code",
   "execution_count": 25,
   "id": "91040c75",
   "metadata": {},
   "outputs": [
    {
     "ename": "NameError",
     "evalue": "name 'report' is not defined",
     "output_type": "error",
     "traceback": [
      "\u001b[0;31m---------------------------------------------------------------------------\u001b[0m",
      "\u001b[0;31mNameError\u001b[0m                                 Traceback (most recent call last)",
      "Cell \u001b[0;32mIn[25], line 1\u001b[0m\n\u001b[0;32m----> 1\u001b[0m report\n",
      "\u001b[0;31mNameError\u001b[0m: name 'report' is not defined"
     ]
    }
   ],
   "source": []
  },
  {
   "cell_type": "code",
   "execution_count": 25,
   "id": "b6568d87",
   "metadata": {},
   "outputs": [
    {
     "name": "stdout",
     "output_type": "stream",
     "text": [
      "\n",
      "****** Vivado(TM) HLS - High-Level Synthesis from C, C++ and SystemC v2020.1 (64-bit)\n",
      "  **** SW Build 2902540 on Wed May 27 19:54:35 MDT 2020\n",
      "  **** IP Build 2902112 on Wed May 27 22:43:36 MDT 2020\n",
      "    ** Copyright 1986-2020 Xilinx, Inc. All Rights Reserved.\n",
      "\n",
      "source /data/software/xilinx/Vivado/2020.1/scripts/vivado_hls/hls.tcl -notrace\n",
      "INFO: Applying HLS Y2K22 patch v1.2 for IP revision\n",
      "INFO: [HLS 200-10] Running '/data/software/xilinx/Vivado/2020.1/bin/unwrapped/lnx64.o/vivado_hls'\n",
      "INFO: [HLS 200-10] For user 'russelld' on host 'mulder.t2.ucsd.edu' (Linux_x86_64 version 4.18.0-425.3.1.el8.x86_64) on Mon Jul 22 19:08:27 PDT 2024\n",
      "INFO: [HLS 200-10] On os \"AlmaLinux release 8.10 (Cerulean Leopard)\"\n",
      "INFO: [HLS 200-10] In directory '/home/users/russelld/VladBranch_SepConv2D/work/SepConv2D_hls4ml/HLS4ML_PROJ_sepConv2D/proj_8-3_rf_1_pf_1_InH23_InW23/qkmodel'\n",
      "Sourcing Tcl script 'build_prj.tcl'\n",
      "INFO: [HLS 200-10] Creating and opening project '/home/users/russelld/VladBranch_SepConv2D/work/SepConv2D_hls4ml/HLS4ML_PROJ_sepConv2D/proj_8-3_rf_1_pf_1_InH23_InW23/qkmodel/myproject_prj'.\n",
      "INFO: [HLS 200-10] Adding design file 'firmware/myproject.cpp' to the project\n",
      "INFO: [HLS 200-10] Adding test bench file 'myproject_test.cpp' to the project\n",
      "INFO: [HLS 200-10] Adding test bench file 'firmware/weights' to the project\n",
      "INFO: [HLS 200-10] Adding test bench file 'tb_data' to the project\n",
      "INFO: [HLS 200-10] Creating and opening solution '/home/users/russelld/VladBranch_SepConv2D/work/SepConv2D_hls4ml/HLS4ML_PROJ_sepConv2D/proj_8-3_rf_1_pf_1_InH23_InW23/qkmodel/myproject_prj/solution1'.\n",
      "INFO: [XFORM 203-101] Allowed max sub elements number after partition is 4096.\n",
      "INFO: [XFORM 203-1161] The maximum of name length is set into 80.\n",
      "INFO: [HLS 200-10] Setting target device to 'xcu250-figd2104-2L-e'\n",
      "INFO: [SYN 201-201] Setting up clock 'default' with a period of 5ns.\n",
      "INFO: [SYN 201-201] Setting up clock 'default' with an uncertainty of 0.625ns.\n",
      "***** C/RTL SYNTHESIS *****\n",
      "INFO: [SCHED 204-61] Option 'relax_ii_for_timing' is enabled, will increase II to preserve clock frequency constraints.\n",
      "INFO: [HLS 200-10] Analyzing design file 'firmware/myproject.cpp' ... \n",
      "INFO: [HLS 200-111] Finished Linking Time (s): cpu = 00:00:28 ; elapsed = 00:00:30 . Memory (MB): peak = 1869.238 ; gain = 1233.949 ; free physical = 88574 ; free virtual = 131603\n",
      "INFO: [HLS 200-111] Finished Checking Pragmas Time (s): cpu = 00:00:28 ; elapsed = 00:00:30 . Memory (MB): peak = 1869.238 ; gain = 1233.949 ; free physical = 88574 ; free virtual = 131603\n",
      "INFO: [HLS 200-10] Starting code transformations ...\n",
      "INFO: [XFORM 203-603] Inlining function 'nnet::product::mult<ap_fixed<8, 3, (ap_q_mode)5, (ap_o_mode)3, 0>, ap_fixed<16, 6, (ap_q_mode)5, (ap_o_mode)3, 0> >::product' into 'nnet::depthwise_conv_2d_latency_cl<ap_fixed<8, 3, (ap_q_mode)5, (ap_o_mode)3, 0>, ap_fixed<16, 6, (ap_q_mode)5, (ap_o_mode)3, 0>, config2_depthwise>' (firmware/nnet_utils/nnet_sepconv2d_latency.h:54).\n",
      "INFO: [XFORM 203-603] Inlining function 'nnet::depthwise_conv_2d_latency_cl<ap_fixed<8, 3, (ap_q_mode)5, (ap_o_mode)3, 0>, ap_fixed<16, 6, (ap_q_mode)5, (ap_o_mode)3, 0>, config2_depthwise>' into 'nnet::depthwise_conv_2d_cl<ap_fixed<8, 3, (ap_q_mode)5, (ap_o_mode)3, 0>, ap_fixed<16, 6, (ap_q_mode)5, (ap_o_mode)3, 0>, config2_depthwise>' (firmware/nnet_utils/nnet_sepconv2d.h:20).\n",
      "INFO: [XFORM 203-603] Inlining function 'nnet::fill_buffer_2_dw<ap_fixed<8, 3, (ap_q_mode)5, (ap_o_mode)3, 0>, config2_depthwise>::fill_buffer' into 'nnet::depthwise_conv_2d_cl<ap_fixed<8, 3, (ap_q_mode)5, (ap_o_mode)3, 0>, ap_fixed<16, 6, (ap_q_mode)5, (ap_o_mode)3, 0>, config2_depthwise>' (firmware/nnet_utils/nnet_sepconv2d_latency.h:40->firmware/nnet_utils/nnet_sepconv2d.h:20).\n",
      "INFO: [XFORM 203-603] Inlining function 'nnet::cast<ap_fixed<8, 3, (ap_q_mode)5, (ap_o_mode)3, 0>, ap_fixed<16, 6, (ap_q_mode)5, (ap_o_mode)3, 0>, config2_depthwise_mult>' into 'nnet::depthwise_conv_2d_cl<ap_fixed<8, 3, (ap_q_mode)5, (ap_o_mode)3, 0>, ap_fixed<16, 6, (ap_q_mode)5, (ap_o_mode)3, 0>, config2_depthwise>' (firmware/nnet_utils/nnet_sepconv2d_latency.h:80->firmware/nnet_utils/nnet_sepconv2d.h:20).\n",
      "INFO: [XFORM 203-603] Inlining function 'nnet::product::mult<ap_fixed<16, 6, (ap_q_mode)5, (ap_o_mode)3, 0>, ap_fixed<16, 6, (ap_q_mode)5, (ap_o_mode)3, 0> >::product' into 'nnet::conv_2d_latency_cl<ap_fixed<16, 6, (ap_q_mode)5, (ap_o_mode)3, 0>, ap_fixed<16, 6, (ap_q_mode)5, (ap_o_mode)3, 0>, config2_pointwise>' (firmware/nnet_utils/nnet_conv2d_latency.h:55).\n",
      "INFO: [XFORM 203-603] Inlining function 'nnet::product::mult<ap_fixed<16, 6, (ap_q_mode)5, (ap_o_mode)3, 0>, ap_fixed<16, 6, (ap_q_mode)5, (ap_o_mode)3, 0> >::product' into 'nnet::dense_latency<ap_fixed<16, 6, (ap_q_mode)5, (ap_o_mode)3, 0>, ap_fixed<16, 6, (ap_q_mode)5, (ap_o_mode)3, 0>, config5>' (firmware/nnet_utils/nnet_dense_latency.h:42).\n",
      "INFO: [XFORM 203-603] Inlining function 'nnet::conv_2d_latency_cl<ap_fixed<16, 6, (ap_q_mode)5, (ap_o_mode)3, 0>, ap_fixed<16, 6, (ap_q_mode)5, (ap_o_mode)3, 0>, config2_pointwise>' into 'nnet::pointwise_conv_2d_cl<ap_fixed<16, 6, (ap_q_mode)5, (ap_o_mode)3, 0>, ap_fixed<16, 6, (ap_q_mode)5, (ap_o_mode)3, 0>, config2_pointwise>' (firmware/nnet_utils/nnet_conv2d.h:67).\n",
      "INFO: [XFORM 203-603] Inlining function 'nnet::depthwise_conv_2d_cl<ap_fixed<8, 3, (ap_q_mode)5, (ap_o_mode)3, 0>, ap_fixed<16, 6, (ap_q_mode)5, (ap_o_mode)3, 0>, config2_depthwise>' into 'nnet::separable_conv_2d_cl<ap_fixed<8, 3, (ap_q_mode)5, (ap_o_mode)3, 0>, ap_fixed<16, 6, (ap_q_mode)5, (ap_o_mode)3, 0>, ap_fixed<16, 6, (ap_q_mode)5, (ap_o_mode)3, 0>, config2>' (firmware/nnet_utils/nnet_sepconv2d.h:43).\n",
      "INFO: [XFORM 203-603] Inlining function 'nnet::pointwise_conv_2d_cl<ap_fixed<16, 6, (ap_q_mode)5, (ap_o_mode)3, 0>, ap_fixed<16, 6, (ap_q_mode)5, (ap_o_mode)3, 0>, config2_pointwise>' into 'nnet::separable_conv_2d_cl<ap_fixed<8, 3, (ap_q_mode)5, (ap_o_mode)3, 0>, ap_fixed<16, 6, (ap_q_mode)5, (ap_o_mode)3, 0>, ap_fixed<16, 6, (ap_q_mode)5, (ap_o_mode)3, 0>, config2>' (firmware/nnet_utils/nnet_sepconv2d.h:45).\n",
      "INFO: [XFORM 203-603] Inlining function 'nnet::fill_buffer_2_pw<ap_fixed<16, 6, (ap_q_mode)5, (ap_o_mode)3, 0>, config2_pointwise>::fill_buffer' into 'nnet::separable_conv_2d_cl<ap_fixed<8, 3, (ap_q_mode)5, (ap_o_mode)3, 0>, ap_fixed<16, 6, (ap_q_mode)5, (ap_o_mode)3, 0>, ap_fixed<16, 6, (ap_q_mode)5, (ap_o_mode)3, 0>, config2>' (firmware/nnet_utils/nnet_conv2d_latency.h:38->firmware/nnet_utils/nnet_conv2d.h:67->firmware/nnet_utils/nnet_sepconv2d.h:45).\n",
      "INFO: [XFORM 203-603] Inlining function 'nnet::cast<ap_fixed<16, 6, (ap_q_mode)5, (ap_o_mode)3, 0>, ap_fixed<16, 6, (ap_q_mode)5, (ap_o_mode)3, 0>, config2_pointwise_mult>' into 'nnet::separable_conv_2d_cl<ap_fixed<8, 3, (ap_q_mode)5, (ap_o_mode)3, 0>, ap_fixed<16, 6, (ap_q_mode)5, (ap_o_mode)3, 0>, ap_fixed<16, 6, (ap_q_mode)5, (ap_o_mode)3, 0>, config2>' (firmware/nnet_utils/nnet_conv2d_latency.h:82->firmware/nnet_utils/nnet_conv2d.h:67->firmware/nnet_utils/nnet_sepconv2d.h:45).\n",
      "INFO: [XFORM 203-603] Inlining function 'nnet::dense<ap_fixed<16, 6, (ap_q_mode)5, (ap_o_mode)3, 0>, ap_fixed<16, 6, (ap_q_mode)5, (ap_o_mode)3, 0>, config5>' into 'myproject' (firmware/myproject.cpp:42).\n",
      "INFO: [HLS 200-111] Finished Standard Transforms Time (s): cpu = 00:00:38 ; elapsed = 00:00:40 . Memory (MB): peak = 1869.238 ; gain = 1233.949 ; free physical = 88480 ; free virtual = 131513\n",
      "INFO: [HLS 200-10] Checking synthesizability ...\n",
      "INFO: [XFORM 203-602] Inlining function 'nnet::cast<ap_fixed<16, 6, (ap_q_mode)5, (ap_o_mode)3, 0>, ap_fixed<16, 6, (ap_q_mode)5, (ap_o_mode)3, 0>, config5>' into 'nnet::dense_latency<ap_fixed<16, 6, (ap_q_mode)5, (ap_o_mode)3, 0>, ap_fixed<16, 6, (ap_q_mode)5, (ap_o_mode)3, 0>, config5>' (firmware/nnet_utils/nnet_dense_latency.h:66) automatically.\n",
      "INFO: [HLS 200-111] Finished Checking Synthesizability Time (s): cpu = 00:02:06 ; elapsed = 00:02:09 . Memory (MB): peak = 1869.238 ; gain = 1233.949 ; free physical = 88474 ; free virtual = 131509\n",
      "WARNING: [XFORM 203-505] Ignore pipeline pragma in Loop whose tripcount is only 1 (firmware/nnet_utils/nnet_sepconv2d_latency.h:38) in function 'nnet::separable_conv_2d_cl<ap_fixed<8, 3, (ap_q_mode)5, (ap_o_mode)3, 0>, ap_fixed<16, 6, (ap_q_mode)5, (ap_o_mode)3, 0>, ap_fixed<16, 6, (ap_q_mode)5, (ap_o_mode)3, 0>, config2>'.\n",
      "WARNING: [XFORM 203-505] Ignore pipeline pragma in Loop whose tripcount is only 1 (firmware/nnet_utils/nnet_conv2d_latency.h:36) in function 'nnet::separable_conv_2d_cl<ap_fixed<8, 3, (ap_q_mode)5, (ap_o_mode)3, 0>, ap_fixed<16, 6, (ap_q_mode)5, (ap_o_mode)3, 0>, ap_fixed<16, 6, (ap_q_mode)5, (ap_o_mode)3, 0>, config2>'.\n",
      "INFO: [XFORM 203-502] Unrolling all loops for pipelining in function 'nnet::dense_latency<ap_fixed<16, 6, (ap_q_mode)5, (ap_o_mode)3, 0>, ap_fixed<16, 6, (ap_q_mode)5, (ap_o_mode)3, 0>, config5>' (firmware/nnet_utils/nnet_dense_latency.h:17:48).\n",
      "INFO: [XFORM 203-502] Unrolling all loops for pipelining in function 'nnet::separable_conv_2d_cl<ap_fixed<8, 3, (ap_q_mode)5, (ap_o_mode)3, 0>, ap_fixed<16, 6, (ap_q_mode)5, (ap_o_mode)3, 0>, ap_fixed<16, 6, (ap_q_mode)5, (ap_o_mode)3, 0>, config2>' (firmware/nnet_utils/nnet_conv2d_latency.h:20:57).\n",
      "INFO: [HLS 200-489] Unrolling loop 'Product1' (firmware/nnet_utils/nnet_dense_latency.h:37) in function 'nnet::dense_latency<ap_fixed<16, 6, (ap_q_mode)5, (ap_o_mode)3, 0>, ap_fixed<16, 6, (ap_q_mode)5, (ap_o_mode)3, 0>, config5>' completely with a factor of 2205.\n",
      "INFO: [HLS 200-489] Unrolling loop 'Product2' (firmware/nnet_utils/nnet_dense_latency.h:40) in function 'nnet::dense_latency<ap_fixed<16, 6, (ap_q_mode)5, (ap_o_mode)3, 0>, ap_fixed<16, 6, (ap_q_mode)5, (ap_o_mode)3, 0>, config5>' completely with a factor of 2.\n",
      "INFO: [HLS 200-489] Unrolling loop 'ResetAccum' (firmware/nnet_utils/nnet_dense_latency.h:48) in function 'nnet::dense_latency<ap_fixed<16, 6, (ap_q_mode)5, (ap_o_mode)3, 0>, ap_fixed<16, 6, (ap_q_mode)5, (ap_o_mode)3, 0>, config5>' completely with a factor of 2.\n",
      "INFO: [HLS 200-489] Unrolling loop 'Accum1' (firmware/nnet_utils/nnet_dense_latency.h:54) in function 'nnet::dense_latency<ap_fixed<16, 6, (ap_q_mode)5, (ap_o_mode)3, 0>, ap_fixed<16, 6, (ap_q_mode)5, (ap_o_mode)3, 0>, config5>' completely with a factor of 2205.\n",
      "INFO: [HLS 200-489] Unrolling loop 'Accum2' (firmware/nnet_utils/nnet_dense_latency.h:56) in function 'nnet::dense_latency<ap_fixed<16, 6, (ap_q_mode)5, (ap_o_mode)3, 0>, ap_fixed<16, 6, (ap_q_mode)5, (ap_o_mode)3, 0>, config5>' completely with a factor of 2.\n",
      "INFO: [HLS 200-489] Unrolling loop 'Result' (firmware/nnet_utils/nnet_dense_latency.h:64) in function 'nnet::dense_latency<ap_fixed<16, 6, (ap_q_mode)5, (ap_o_mode)3, 0>, ap_fixed<16, 6, (ap_q_mode)5, (ap_o_mode)3, 0>, config5>' completely with a factor of 2.\n",
      "INFO: [HLS 200-489] Unrolling loop 'PartitionLoop' (firmware/nnet_utils/nnet_sepconv2d_latency.h:37) in function 'nnet::separable_conv_2d_cl<ap_fixed<8, 3, (ap_q_mode)5, (ap_o_mode)3, 0>, ap_fixed<16, 6, (ap_q_mode)5, (ap_o_mode)3, 0>, ap_fixed<16, 6, (ap_q_mode)5, (ap_o_mode)3, 0>, config2>' completely with a factor of 1.\n",
      "ERROR: [XFORM 203-504] Stop unrolling loop 'PartitionLoop' (firmware/nnet_utils/nnet_sepconv2d_latency.h:37) in function 'nnet::separable_conv_2d_cl<ap_fixed<8, 3, (ap_q_mode)5, (ap_o_mode)3, 0>, ap_fixed<16, 6, (ap_q_mode)5, (ap_o_mode)3, 0>, ap_fixed<16, 6, (ap_q_mode)5, (ap_o_mode)3, 0>, config2>' because it may cause large runtime and excessive memory usage due to increase in code size. Please avoid unrolling the loop or form sub-functions for code in the loop body.\n",
      "ERROR: [HLS 200-70] Pre-synthesis failed.\n",
      "command 'ap_source' returned error code\n",
      "    while executing\n",
      "\"source build_prj.tcl\"\n",
      "    (\"uplevel\" body line 1)\n",
      "    invoked from within\n",
      "\"uplevel \\#0 [list source $arg] \"\n",
      "\n",
      "INFO: [Common 17-206] Exiting vivado_hls at Mon Jul 22 19:12:11 2024...\n",
      "CSynthesis report not found.\n",
      "Vivado synthesis report not found.\n",
      "Cosim report not found.\n",
      "Timing report not found.\n"
     ]
    }
   ],
   "source": [
    "report = hls_kmodel.build(csim=False)"
   ]
  },
  {
   "cell_type": "code",
   "execution_count": 26,
   "id": "b9517c7d",
   "metadata": {},
   "outputs": [
    {
     "data": {
      "text/plain": [
       "{}"
      ]
     },
     "execution_count": 26,
     "metadata": {},
     "output_type": "execute_result"
    }
   ],
   "source": [
    "report"
   ]
  },
  {
   "cell_type": "code",
   "execution_count": 37,
   "id": "9e0940a6",
   "metadata": {},
   "outputs": [
    {
     "name": "stdout",
     "output_type": "stream",
     "text": [
      "i =  2\n",
      "hello 2\n"
     ]
    }
   ],
   "source": [
    "i = 2\n",
    "print(\"i = \", i)\n",
    "for i in range(2,3):\n",
    "    print(\"hello\", i)"
   ]
  },
  {
   "cell_type": "code",
   "execution_count": 1,
   "id": "f79cff84",
   "metadata": {},
   "outputs": [],
   "source": [
    "try: \n",
    "    a = 2\n",
    "except KeyError:\n",
    "    print(\"Failed.\")"
   ]
  },
  {
   "cell_type": "code",
   "execution_count": 2,
   "id": "558547d8",
   "metadata": {},
   "outputs": [
    {
     "data": {
      "text/plain": [
       "2"
      ]
     },
     "execution_count": 2,
     "metadata": {},
     "output_type": "execute_result"
    }
   ],
   "source": [
    "a"
   ]
  },
  {
   "cell_type": "code",
   "execution_count": 46,
   "id": "5d1d3119",
   "metadata": {},
   "outputs": [
    {
     "name": "stdout",
     "output_type": "stream",
     "text": [
      "1\n"
     ]
    }
   ],
   "source": [
    "k =1\n",
    "for i in range(1,1+k):    \n",
    "    try:\n",
    "        hls_m = report['CSynthesisReport']\n",
    "    except KeyError:\n",
    "        KEY = \"FAILED\"\n",
    "    if KEY == \"FAILED\":\n",
    "        print(i)\n",
    "        k += 1\n",
    "    elif i == 5: \n",
    "        break"
   ]
  },
  {
   "cell_type": "code",
   "execution_count": 51,
   "id": "f079dac3",
   "metadata": {},
   "outputs": [
    {
     "name": "stdout",
     "output_type": "stream",
     "text": [
      "3 3\n",
      "4 4\n",
      "5 5\n"
     ]
    }
   ],
   "source": [
    "j = 2\n",
    "W = 2\n",
    "while j == W:   \n",
    "    j = W\n",
    "    if j < 5:\n",
    "        j += 1\n",
    "        W += 1\n",
    "        print(j, W)\n",
    "    else: break\n",
    "    "
   ]
  },
  {
   "cell_type": "code",
   "execution_count": 52,
   "id": "83a2c2e2",
   "metadata": {},
   "outputs": [],
   "source": [
    "k = 2\n",
    "m = 2"
   ]
  },
  {
   "cell_type": "code",
   "execution_count": 55,
   "id": "0dff2e87",
   "metadata": {},
   "outputs": [
    {
     "name": "stdout",
     "output_type": "stream",
     "text": [
      "they are equal\n",
      "they are equal\n"
     ]
    }
   ],
   "source": [
    "i = k\n",
    "j = m\n",
    "n = 0\n",
    "l = [True, True, True, False]\n",
    "while True:\n",
    "    while True:\n",
    "        if m == k:\n",
    "            print(\"they are equal\")\n",
    "            n += 1\n",
    "            break  \n",
    "        else: \n",
    "            m += 1\n",
    "    if n == 2:\n",
    "        break\n",
    "    \n"
   ]
  },
  {
   "cell_type": "code",
   "execution_count": 30,
   "id": "ae1d5f9e",
   "metadata": {},
   "outputs": [
    {
     "data": {
      "text/plain": [
       "140335976948672"
      ]
     },
     "execution_count": 30,
     "metadata": {},
     "output_type": "execute_result"
    }
   ],
   "source": [
    "id(report)"
   ]
  },
  {
   "cell_type": "code",
   "execution_count": 33,
   "id": "9fa1f61f",
   "metadata": {},
   "outputs": [
    {
     "name": "stdout",
     "output_type": "stream",
     "text": [
      "Found 1 solution(s) in /home/users/russelld/VladBranch_SepConv2D/work/SepConv2D_hls4ml/HLS4ML_PROJ_sepConv2D/proj_32-16_rf_1_pf_4_InH12_InW12/qkmodel/myproject_prj.\n",
      "Reports for solution \"solution1\":\n",
      "\n",
      "C simulation report not found.\n",
      "SYNTHESIS REPORT:\n",
      "================================================================\n",
      "== Vivado HLS Report for 'myproject'\n",
      "================================================================\n",
      "* Date:           Thu Jul  4 16:46:34 2024\n",
      "\n",
      "* Version:        2020.1 (Build 2897737 on Wed May 27 20:21:37 MDT 2020)\n",
      "* Project:        myproject_prj\n",
      "* Solution:       solution1\n",
      "* Product family: virtexuplus\n",
      "* Target device:  xcu250-figd2104-2L-e\n",
      "\n",
      "\n",
      "================================================================\n",
      "== Performance Estimates\n",
      "================================================================\n",
      "+ Timing: \n",
      "    * Summary: \n",
      "    +--------+---------+----------+------------+\n",
      "    |  Clock |  Target | Estimated| Uncertainty|\n",
      "    +--------+---------+----------+------------+\n",
      "    |ap_clk  | 5.00 ns | 4.235 ns |   0.62 ns  |\n",
      "    +--------+---------+----------+------------+\n",
      "\n",
      "+ Latency: \n",
      "    * Summary: \n",
      "    +---------+---------+----------+----------+-----+-----+----------+\n",
      "    |  Latency (cycles) |  Latency (absolute) |  Interval | Pipeline |\n",
      "    |   min   |   max   |    min   |    max   | min | max |   Type   |\n",
      "    +---------+---------+----------+----------+-----+-----+----------+\n",
      "    |      152|      152| 0.760 us | 0.760 us |  151|  151| function |\n",
      "    +---------+---------+----------+----------+-----+-----+----------+\n",
      "\n",
      "    + Detail: \n",
      "        * Instance: \n",
      "        +---------------------------------------------------------------------------------+----------------------------------------------------------------------+---------+---------+----------+----------+-----+-----+----------+\n",
      "        |                                                                                 |                                                                      |  Latency (cycles) |  Latency (absolute) |  Interval | Pipeline |\n",
      "        |                                     Instance                                    |                                Module                                |   min   |   max   |    min   |    max   | min | max |   Type   |\n",
      "        +---------------------------------------------------------------------------------+----------------------------------------------------------------------+---------+---------+----------+----------+-----+-----+----------+\n",
      "        |grp_dense_latency_ap_fixed_16_6_5_3_0_ap_fixed_16_6_5_3_0_config5_0_0_0_fu_54    |dense_latency_ap_fixed_16_6_5_3_0_ap_fixed_16_6_5_3_0_config5_0_0_0   |        1|        1| 5.000 ns | 5.000 ns |    1|    1| function |\n",
      "        |grp_separable_conv_2d_cl_ap_fixed_ap_fixed_ap_fixed_16_6_5_3_0_config2_s_fu_558  |separable_conv_2d_cl_ap_fixed_ap_fixed_ap_fixed_16_6_5_3_0_config2_s  |      150|      150| 0.750 us | 0.750 us |  151|  151| function |\n",
      "        +---------------------------------------------------------------------------------+----------------------------------------------------------------------+---------+---------+----------+----------+-----+-----+----------+\n",
      "\n",
      "        * Loop: \n",
      "        N/A\n",
      "\n",
      "\n",
      "\n",
      "================================================================\n",
      "== Utilization Estimates\n",
      "================================================================\n",
      "* Summary: \n",
      "+---------------------+---------+-------+---------+---------+------+\n",
      "|         Name        | BRAM_18K| DSP48E|    FF   |   LUT   | URAM |\n",
      "+---------------------+---------+-------+---------+---------+------+\n",
      "|DSP                  |        -|      -|        -|        -|     -|\n",
      "|Expression           |        -|      -|        0|        6|     -|\n",
      "|FIFO                 |        -|      -|        -|        -|     -|\n",
      "|Instance             |        1|    628|     7848|    60092|     0|\n",
      "|Memory               |        -|      -|        -|        -|     -|\n",
      "|Multiplexer          |        -|      -|        -|      736|     -|\n",
      "|Register             |        -|      -|    17370|        -|     -|\n",
      "+---------------------+---------+-------+---------+---------+------+\n",
      "|Total                |        1|    628|    25218|    60834|     0|\n",
      "+---------------------+---------+-------+---------+---------+------+\n",
      "|Available SLR        |     1344|   3072|   864000|   432000|   320|\n",
      "+---------------------+---------+-------+---------+---------+------+\n",
      "|Utilization SLR (%)  |    ~0   |     20|        2|       14|     0|\n",
      "+---------------------+---------+-------+---------+---------+------+\n",
      "|Available            |     5376|  12288|  3456000|  1728000|  1280|\n",
      "+---------------------+---------+-------+---------+---------+------+\n",
      "|Utilization (%)      |    ~0   |      5|    ~0   |        3|     0|\n",
      "+---------------------+---------+-------+---------+---------+------+\n",
      "\n",
      "+ Detail: \n",
      "    * Instance: \n",
      "    +---------------------------------------------------------------------------------+----------------------------------------------------------------------+---------+-------+------+-------+-----+\n",
      "    |                                     Instance                                    |                                Module                                | BRAM_18K| DSP48E|  FF  |  LUT  | URAM|\n",
      "    +---------------------------------------------------------------------------------+----------------------------------------------------------------------+---------+-------+------+-------+-----+\n",
      "    |grp_dense_latency_ap_fixed_16_6_5_3_0_ap_fixed_16_6_5_3_0_config5_0_0_0_fu_54    |dense_latency_ap_fixed_16_6_5_3_0_ap_fixed_16_6_5_3_0_config5_0_0_0   |        0|    628|  2129|  31559|    0|\n",
      "    |grp_separable_conv_2d_cl_ap_fixed_ap_fixed_ap_fixed_16_6_5_3_0_config2_s_fu_558  |separable_conv_2d_cl_ap_fixed_ap_fixed_ap_fixed_16_6_5_3_0_config2_s  |        1|      0|  5719|  28533|    0|\n",
      "    +---------------------------------------------------------------------------------+----------------------------------------------------------------------+---------+-------+------+-------+-----+\n",
      "    |Total                                                                            |                                                                      |        1|    628|  7848|  60092|    0|\n",
      "    +---------------------------------------------------------------------------------+----------------------------------------------------------------------+---------+-------+------+-------+-----+\n",
      "\n",
      "Co-simulation report not found.\n"
     ]
    }
   ],
   "source": [
    "#hls4ml.report.read_vivado_report(\"/home/users/russelld/sConv2D_hls4ml/SepConv2D_hls4ml/small_kmod_hls4ml_prj\")\n",
    "hls4ml.report.read_vivado_report(f'/home/users/russelld/VladBranch_SepConv2D/work/SepConv2D_hls4ml/HLS4ML_PROJ_sepConv2D/proj_{FXD_W}-{FXD_I}_rf_{reuseFactor}_pf_{parallelFactor}_InH{H}_InW{W}/qkmodel')"
   ]
  },
  {
   "cell_type": "code",
   "execution_count": 31,
   "id": "aea4dfe5",
   "metadata": {},
   "outputs": [],
   "source": [
    "a=5"
   ]
  },
  {
   "cell_type": "code",
   "execution_count": 33,
   "id": "46941a63",
   "metadata": {},
   "outputs": [
    {
     "data": {
      "text/plain": [
       "140353684013424"
      ]
     },
     "execution_count": 33,
     "metadata": {},
     "output_type": "execute_result"
    }
   ],
   "source": [
    "id(a)"
   ]
  },
  {
   "cell_type": "code",
   "execution_count": 34,
   "id": "b758f67a",
   "metadata": {},
   "outputs": [
    {
     "ename": "SyntaxError",
     "evalue": "expected ':' (3707121663.py, line 1)",
     "output_type": "error",
     "traceback": [
      "\u001b[0;36m  Cell \u001b[0;32mIn[34], line 1\u001b[0;36m\u001b[0m\n\u001b[0;31m    if True\u001b[0m\n\u001b[0m           ^\u001b[0m\n\u001b[0;31mSyntaxError\u001b[0m\u001b[0;31m:\u001b[0m expected ':'\n"
     ]
    }
   ],
   "source": [
    "if True\n",
    "    b = D "
   ]
  },
  {
   "attachments": {},
   "cell_type": "markdown",
   "id": "766947c1",
   "metadata": {},
   "source": [
    "### -------- Only focusing on the above for now. I will try QKeras afterwards."
   ]
  },
  {
   "cell_type": "code",
   "execution_count": null,
   "id": "7c01f09a",
   "metadata": {},
   "outputs": [],
   "source": []
  },
  {
   "cell_type": "code",
   "execution_count": null,
   "id": "51052d85",
   "metadata": {},
   "outputs": [],
   "source": []
  },
  {
   "attachments": {},
   "cell_type": "markdown",
   "id": "f0b76e09",
   "metadata": {},
   "source": [
    "QKeras model..."
   ]
  },
  {
   "cell_type": "code",
   "execution_count": null,
   "id": "1f95b2dd-cf21-4822-be16-7469486041b8",
   "metadata": {},
   "outputs": [],
   "source": [
    "def CreateQKerasModel(type, input_shape, kernel_size, filters):\n",
    "    # # Generate the same random values\n",
    "    # import random\n",
    "    # import numpy as np\n",
    "    # import tensorflow as tf\n",
    "\n",
    "    # random.seed(42)\n",
    "    # np.random.seed(42)\n",
    "    # tf.random.set_seed(42)\n",
    "    \n",
    "    x_in = Input(input_shape, name='q_input_1')\n",
    "    if type == 'depthwise_conv2d':\n",
    "        x_out = QDepthwiseConv2D(\n",
    "            kernel_size=kernel_size,\n",
    "            use_bias=False,\n",
    "            depthwise_initializer=tf.keras.initializers.Ones(), # makes debugging easy\n",
    "            depthwise_quantizer=quantized_bits(FXD_W, FXD_I-1, 1, alpha=1),\n",
    "            bias_quantizer=quantized_bits(FXD_W, FXD_I-1, 1, alpha=1),\n",
    "            name='q_depthwise_conv2d'\n",
    "        )(x_in)\n",
    "    elif type == 'pointwise_conv2d':\n",
    "        x_out = QConv2D(\n",
    "            kernel_size=(1,1), # 1x1 convolution\n",
    "            filters=filters,\n",
    "            use_bias=False,\n",
    "            kernel_initializer=tf.keras.initializers.Ones(), # makes debugging easy\n",
    "            kernel_quantizer=quantized_bits(FXD_W, FXD_I-1, 1, alpha=1),\n",
    "            bias_quantizer=quantized_bits(FXD_W, FXD_I-1, 1, alpha=1),\n",
    "            name='q_pointwise_conv2d'\n",
    "        )(x_in)\n",
    "    else:\n",
    "        x_out = QSeparableConv2D(\n",
    "            filters=filters,\n",
    "            kernel_size=kernel_size,\n",
    "            use_bias=False,\n",
    "            depthwise_initializer=tf.keras.initializers.Ones(), # makes debugging easy\n",
    "            pointwise_initializer=tf.keras.initializers.Ones(), # makes debugging easy\n",
    "            depthwise_quantizer=quantized_bits(FXD_W, FXD_I-1, 1, alpha=1),\n",
    "            pointwise_quantizer=quantized_bits(FXD_W, FXD_I-1, 1, alpha=1),\n",
    "            bias_quantizer=quantized_bits(FXD_W, FXD_I-1, 1, alpha=1),\n",
    "            name='q_separable_conv2d'\n",
    "        )(x_in)\n",
    "    \n",
    "    qkmodel = Model(inputs=x_in, outputs=x_out)\n",
    "    return qkmodel"
   ]
  },
  {
   "cell_type": "code",
   "execution_count": null,
   "id": "b554dcb8-9cb3-4ca2-a04e-bf6a33581b51",
   "metadata": {},
   "outputs": [
    {
     "name": "stdout",
     "output_type": "stream",
     "text": [
      "WARNING:tensorflow:From /home/users/russelld/micromamba/envs/sepC2/lib/python3.10/site-packages/tensorflow/python/autograph/pyct/static_analysis/liveness.py:83: Analyzer.lamba_check (from tensorflow.python.autograph.pyct.static_analysis.liveness) is deprecated and will be removed after 2023-09-23.\n",
      "Instructions for updating:\n",
      "Lambda fuctions will be no more assumed to be used in the statement where they are used, or at least in the same block. https://github.com/tensorflow/tensorflow/issues/56089\n",
      "Model: \"model_2\"\n",
      "_________________________________________________________________\n",
      " Layer (type)                Output Shape              Param #   \n",
      "=================================================================\n",
      " q_input_1 (InputLayer)      [(None, 16, 13, 2)]       0         \n",
      "                                                                 \n",
      " q_separable_conv2d (QSepara  (None, 14, 11, 5)        28        \n",
      " bleConv2D)                                                      \n",
      "                                                                 \n",
      "=================================================================\n",
      "Total params: 28\n",
      "Trainable params: 28\n",
      "Non-trainable params: 0\n",
      "_________________________________________________________________\n"
     ]
    }
   ],
   "source": [
    "qkmodel = CreateQKerasModel(LAYER, input_shape=(H,W,Din), kernel_size=(Fh, Fw), filters=Dout)\n",
    "qkmodel.summary()"
   ]
  },
  {
   "cell_type": "code",
   "execution_count": null,
   "id": "41da87ca-3102-43f7-a9de-038000048069",
   "metadata": {},
   "outputs": [],
   "source": [
    "import hls4ml.utils\n",
    "import hls4ml.converters"
   ]
  },
  {
   "cell_type": "code",
   "execution_count": null,
   "id": "98a083d3-c25a-401c-bd42-ee5f5258c4aa",
   "metadata": {},
   "outputs": [
    {
     "name": "stdout",
     "output_type": "stream",
     "text": [
      "Interpreting Model\n",
      "Topology:\n",
      "Layer name: input_1, layer type: InputLayer, input shapes: [[None, 16, 13, 2]], output shape: [None, 16, 13, 2]\n",
      "Layer name: separable_conv2d, layer type: SeparableConv2D, input shapes: [[None, 16, 13, 2]], output shape: [None, 14, 11, 5]\n",
      "Layer name: flatten, layer type: Reshape, input shapes: [[None, 14, 11, 5]], output shape: [None, 770]\n",
      "Layer name: dense, layer type: Dense, input shapes: [[None, 770]], output shape: [None, 2]\n",
      "-----------------------------------\n"
     ]
    }
   ],
   "source": [
    "config = hls4ml.utils.config_from_keras_model(kmodel, granularity='name')\n",
    "print(\"-----------------------------------\")"
   ]
  },
  {
   "cell_type": "code",
   "execution_count": null,
   "id": "dc75240c-3852-4d25-9f3f-ac96a8e00e57",
   "metadata": {},
   "outputs": [
    {
     "name": "stdout",
     "output_type": "stream",
     "text": [
      "Interpreting Model\n",
      "Topology:\n",
      "Layer name: input_1, layer type: InputLayer, input shapes: [[None, 16, 13, 2]], output shape: [None, 16, 13, 2]\n",
      "Layer name: separable_conv2d, layer type: SeparableConv2D, input shapes: [[None, 16, 13, 2]], output shape: [None, 14, 11, 5]\n",
      "Layer name: flatten, layer type: Reshape, input shapes: [[None, 14, 11, 5]], output shape: [None, 770]\n",
      "Layer name: dense, layer type: Dense, input shapes: [[None, 770]], output shape: [None, 2]\n",
      "Creating HLS model\n",
      "Writing HLS project\n",
      "Done\n"
     ]
    }
   ],
   "source": [
    "#config['LayerName']['q_input_1']['Precision']['result'] = 'fixed<{},{}>'.format(FXD_W, FXD_I)\n",
    "config['LayerName']['input_1']['Precision']['result'] = 'fixed<{},{}>'.format(FXD_W, FXD_I)\n",
    "config['Model']['Strategy'] = STRATEGY\n",
    "#config['Model']['Strategy'] = 'Resource'\n",
    "config['LayerName']['separable_conv2d']['ReuseFactor'] = 32\n",
    "\n",
    "hls_kmodel = hls4ml.converters.convert_from_keras_model(\n",
    "    kmodel, \n",
    "    hls_config=config, \n",
    "    output_dir='small_hls4ml_prj', \n",
    "    part='xcu250-figd2104-2L-e',\n",
    "    backend=BACKEND,\n",
    "    io_type=IO_TYPE\n",
    ")\n",
    "\n",
    "hls_kmodel.compile()"
   ]
  },
  {
   "cell_type": "code",
   "execution_count": null,
   "id": "ec785143-ece4-4629-8afa-5679085db5e5",
   "metadata": {},
   "outputs": [],
   "source": [
    "#m = hls4ml.converters.keras_to_hls(config)"
   ]
  },
  {
   "cell_type": "code",
   "execution_count": null,
   "id": "fd9f6396-c4b6-463a-9331-2767109f4c7d",
   "metadata": {},
   "outputs": [
    {
     "name": "stdout",
     "output_type": "stream",
     "text": [
      "\n",
      "****** Vivado(TM) HLS - High-Level Synthesis from C, C++ and SystemC v2020.1 (64-bit)\n",
      "  **** SW Build 2902540 on Wed May 27 19:54:35 MDT 2020\n",
      "  **** IP Build 2902112 on Wed May 27 22:43:36 MDT 2020\n",
      "    ** Copyright 1986-2020 Xilinx, Inc. All Rights Reserved.\n",
      "\n",
      "source /data/software/xilinx/Vivado/2020.1/scripts/vivado_hls/hls.tcl -notrace\n",
      "INFO: Applying HLS Y2K22 patch v1.2 for IP revision\n",
      "INFO: [HLS 200-10] Running '/data/software/xilinx/Vivado/2020.1/bin/unwrapped/lnx64.o/vivado_hls'\n",
      "INFO: [HLS 200-10] For user 'russelld' on host 'mulder.t2.ucsd.edu' (Linux_x86_64 version 4.18.0-425.3.1.el8.x86_64) on Sat Apr 20 18:12:00 PDT 2024\n",
      "INFO: [HLS 200-10] In directory '/home/users/russelld/sConv2D_hls4ml/SepConv2D_hls4ml/small_hls4ml_prj'\n",
      "Sourcing Tcl script 'build_prj.tcl'\n",
      "INFO: [HLS 200-10] Opening project '/home/users/russelld/sConv2D_hls4ml/SepConv2D_hls4ml/small_hls4ml_prj/myproject_prj'.\n",
      "INFO: [HLS 200-10] Adding design file 'firmware/myproject.cpp' to the project\n",
      "INFO: [HLS 200-10] Adding test bench file 'myproject_test.cpp' to the project\n",
      "INFO: [HLS 200-10] Adding test bench file 'firmware/weights' to the project\n",
      "INFO: [HLS 200-10] Adding test bench file 'tb_data' to the project\n",
      "INFO: [HLS 200-10] Opening solution '/home/users/russelld/sConv2D_hls4ml/SepConv2D_hls4ml/small_hls4ml_prj/myproject_prj/solution1'.\n",
      "INFO: [SYN 201-201] Setting up clock 'default' with a period of 5ns.\n",
      "INFO: [SYN 201-201] Setting up clock 'default' with an uncertainty of 0.625ns.\n",
      "INFO: [HLS 200-10] Setting target device to 'xcu250-figd2104-2L-e'\n",
      "INFO: [XFORM 203-101] Allowed max sub elements number after partition is 4096.\n",
      "INFO: [XFORM 203-1161] The maximum of name length is set into 80.\n",
      "INFO: [XFORM 203-101] Allowed max sub elements number after partition is 4096.\n",
      "INFO: [XFORM 203-1161] The maximum of name length is set into 80.\n",
      "***** C/RTL SYNTHESIS *****\n",
      "INFO: [SCHED 204-61] Option 'relax_ii_for_timing' is enabled, will increase II to preserve clock frequency constraints.\n",
      "INFO: [HLS 200-10] Analyzing design file 'firmware/myproject.cpp' ... \n",
      "WARNING: [HLS 200-40] In file included from firmware/myproject.cpp:1:\n",
      "In file included from firmware/myproject.cpp:4:\n",
      "In file included from firmware/parameters.h:10:\n",
      "In file included from firmware/nnet_utils/nnet_conv2d.h:6:\n",
      "firmware/nnet_utils/nnet_conv2d_resource.h:82:31: warning: comparison of unsigned expression >= 0 is always true [-Wtautological-compare]\n",
      "                if (i_acc + 1 >= multscale) {\n",
      "                    ~~~~~~~~~ ^  ~~~~~~~~~\n",
      "firmware/nnet_utils/nnet_conv2d.h:105:9: note: in instantiation of function template specialization 'nnet::conv_2d_resource_cl<ap_fixed<16, 6, 5, 3, 0>, ap_fixed<16, 6, 5, 3, 0>, config2_pointwise>' requested here\n",
      "        conv_2d_resource_cl<data_T, res_T, CONFIG_T>(data, res, weights, biases);\n",
      "        ^\n",
      "firmware/nnet_utils/nnet_sepconv2d.h:201:5: note: in instantiation of function template specialization 'nnet::pointwise_conv_2d_cl<ap_fixed<16, 6, 5, 3, 0>, ap_fixed<16, 6, 5, 3, 0>, config2_pointwise>' requested here\n",
      "    pointwise_conv_2d_cl<dw_res_T, res_T, typename CONFIG_T::pointwise_config>(depthwise_results, res, pointwise_weights,\n",
      "    ^\n",
      "firmware/myproject.cpp:39:2: note: in instantiation of function template specialization 'nnet::separable_conv_2d_cl<ap_fixed<12, 3, 5, 3, 0>, ap_fixed<16, 6, 5, 3, 0>, ap_fixed<16, 6, 5, 3, 0>, config2>' requested here\n",
      " nnet::separable_conv_2d_cl<input_t, separable_conv2d_dw_out_t, layer2_t, config2>(input_1, layer2_out, d2, p2, z2, b2);\n",
      " ^\n",
      "1 warning generated.\n",
      "INFO: [HLS 200-111] Finished Linking Time (s): cpu = 00:00:20 ; elapsed = 00:00:20 . Memory (MB): peak = 1869.238 ; gain = 1233.949 ; free physical = 86463 ; free virtual = 126250\n",
      "INFO: [HLS 200-111] Finished Checking Pragmas Time (s): cpu = 00:00:20 ; elapsed = 00:00:20 . Memory (MB): peak = 1869.238 ; gain = 1233.949 ; free physical = 86462 ; free virtual = 126250\n",
      "INFO: [HLS 200-10] Starting code transformations ...\n",
      "INFO: [XFORM 203-603] Inlining function 'nnet::pointwise_conv_2d_latency_cl<ap_fixed<16, 6, (ap_q_mode)5, (ap_o_mode)3, 0>, ap_fixed<16, 6, (ap_q_mode)5, (ap_o_mode)3, 0>, config2_pointwise>' into 'nnet::pointwise_conv_2d_cl<ap_fixed<16, 6, (ap_q_mode)5, (ap_o_mode)3, 0>, ap_fixed<16, 6, (ap_q_mode)5, (ap_o_mode)3, 0>, config2_pointwise>' (firmware/nnet_utils/nnet_conv2d.h:103).\n",
      "INFO: [XFORM 203-603] Inlining function 'nnet::depthwise_conv_2d_cl<ap_fixed<12, 3, (ap_q_mode)5, (ap_o_mode)3, 0>, ap_fixed<16, 6, (ap_q_mode)5, (ap_o_mode)3, 0>, config2_depthwise>' into 'nnet::separable_conv_2d_cl<ap_fixed<12, 3, (ap_q_mode)5, (ap_o_mode)3, 0>, ap_fixed<16, 6, (ap_q_mode)5, (ap_o_mode)3, 0>, ap_fixed<16, 6, (ap_q_mode)5, (ap_o_mode)3, 0>, config2>' (firmware/nnet_utils/nnet_sepconv2d.h:199).\n",
      "INFO: [XFORM 203-603] Inlining function 'nnet::pointwise_conv_2d_cl<ap_fixed<16, 6, (ap_q_mode)5, (ap_o_mode)3, 0>, ap_fixed<16, 6, (ap_q_mode)5, (ap_o_mode)3, 0>, config2_pointwise>' into 'nnet::separable_conv_2d_cl<ap_fixed<12, 3, (ap_q_mode)5, (ap_o_mode)3, 0>, ap_fixed<16, 6, (ap_q_mode)5, (ap_o_mode)3, 0>, ap_fixed<16, 6, (ap_q_mode)5, (ap_o_mode)3, 0>, config2>' (firmware/nnet_utils/nnet_sepconv2d.h:201).\n",
      "INFO: [XFORM 203-603] Inlining function 'nnet::product::mult<ap_fixed<16, 6, (ap_q_mode)5, (ap_o_mode)3, 0>, ap_fixed<16, 6, (ap_q_mode)5, (ap_o_mode)3, 0> >::product' into 'nnet::dense_latency<ap_fixed<16, 6, (ap_q_mode)5, (ap_o_mode)3, 0>, ap_fixed<16, 6, (ap_q_mode)5, (ap_o_mode)3, 0>, config5>' (firmware/nnet_utils/nnet_dense_latency.h:42).\n",
      "INFO: [XFORM 203-603] Inlining function 'nnet::dense<ap_fixed<16, 6, (ap_q_mode)5, (ap_o_mode)3, 0>, ap_fixed<16, 6, (ap_q_mode)5, (ap_o_mode)3, 0>, config5>' into 'myproject' (firmware/myproject.cpp:42).\n",
      "INFO: [HLS 200-111] Finished Standard Transforms Time (s): cpu = 00:00:21 ; elapsed = 00:00:22 . Memory (MB): peak = 1869.238 ; gain = 1233.949 ; free physical = 86449 ; free virtual = 126237\n",
      "INFO: [HLS 200-10] Checking synthesizability ...\n",
      "INFO: [XFORM 203-602] Inlining function 'nnet::cast<ap_fixed<16, 6, (ap_q_mode)5, (ap_o_mode)3, 0>, ap_fixed<16, 6, (ap_q_mode)5, (ap_o_mode)3, 0>, config5>' into 'nnet::dense_latency<ap_fixed<16, 6, (ap_q_mode)5, (ap_o_mode)3, 0>, ap_fixed<16, 6, (ap_q_mode)5, (ap_o_mode)3, 0>, config5>' (firmware/nnet_utils/nnet_dense_latency.h:66) automatically.\n",
      "INFO: [HLS 200-111] Finished Checking Synthesizability Time (s): cpu = 00:00:21 ; elapsed = 00:00:22 . Memory (MB): peak = 1869.238 ; gain = 1233.949 ; free physical = 86447 ; free virtual = 126234\n",
      "INFO: [XFORM 203-502] Unrolling all loops for pipelining in function 'nnet::dense_latency<ap_fixed<16, 6, (ap_q_mode)5, (ap_o_mode)3, 0>, ap_fixed<16, 6, (ap_q_mode)5, (ap_o_mode)3, 0>, config5>' (firmware/nnet_utils/nnet_dense_latency.h:17:48).\n",
      "INFO: [XFORM 203-502] Unrolling all loops for pipelining in function 'nnet::separable_conv_2d_cl<ap_fixed<12, 3, (ap_q_mode)5, (ap_o_mode)3, 0>, ap_fixed<16, 6, (ap_q_mode)5, (ap_o_mode)3, 0>, ap_fixed<16, 6, (ap_q_mode)5, (ap_o_mode)3, 0>, config2>' (firmware/nnet_utils/nnet_sepconv2d.h:36:53).\n",
      "WARNING: [XFORM 203-505] Ignored pipeline directive for loop 'pw_loop1' (firmware/nnet_utils/nnet_conv2d.h:67) because its parent loop or function is pipelined.\n",
      "INFO: [HLS 200-489] Unrolling loop 'Product1' (firmware/nnet_utils/nnet_dense_latency.h:37) in function 'nnet::dense_latency<ap_fixed<16, 6, (ap_q_mode)5, (ap_o_mode)3, 0>, ap_fixed<16, 6, (ap_q_mode)5, (ap_o_mode)3, 0>, config5>' completely with a factor of 770.\n",
      "INFO: [HLS 200-489] Unrolling loop 'Product2' (firmware/nnet_utils/nnet_dense_latency.h:40) in function 'nnet::dense_latency<ap_fixed<16, 6, (ap_q_mode)5, (ap_o_mode)3, 0>, ap_fixed<16, 6, (ap_q_mode)5, (ap_o_mode)3, 0>, config5>' completely with a factor of 2.\n",
      "INFO: [HLS 200-489] Unrolling loop 'ResetAccum' (firmware/nnet_utils/nnet_dense_latency.h:48) in function 'nnet::dense_latency<ap_fixed<16, 6, (ap_q_mode)5, (ap_o_mode)3, 0>, ap_fixed<16, 6, (ap_q_mode)5, (ap_o_mode)3, 0>, config5>' completely with a factor of 2.\n",
      "INFO: [HLS 200-489] Unrolling loop 'Accum1' (firmware/nnet_utils/nnet_dense_latency.h:54) in function 'nnet::dense_latency<ap_fixed<16, 6, (ap_q_mode)5, (ap_o_mode)3, 0>, ap_fixed<16, 6, (ap_q_mode)5, (ap_o_mode)3, 0>, config5>' completely with a factor of 770.\n",
      "INFO: [HLS 200-489] Unrolling loop 'Accum2' (firmware/nnet_utils/nnet_dense_latency.h:56) in function 'nnet::dense_latency<ap_fixed<16, 6, (ap_q_mode)5, (ap_o_mode)3, 0>, ap_fixed<16, 6, (ap_q_mode)5, (ap_o_mode)3, 0>, config5>' completely with a factor of 2.\n",
      "INFO: [HLS 200-489] Unrolling loop 'Result' (firmware/nnet_utils/nnet_dense_latency.h:64) in function 'nnet::dense_latency<ap_fixed<16, 6, (ap_q_mode)5, (ap_o_mode)3, 0>, ap_fixed<16, 6, (ap_q_mode)5, (ap_o_mode)3, 0>, config5>' completely with a factor of 2.\n",
      "INFO: [HLS 200-489] Unrolling loop 'Catapult_loop1' (firmware/nnet_utils/nnet_sepconv2d.h:36) in function 'nnet::separable_conv_2d_cl<ap_fixed<12, 3, (ap_q_mode)5, (ap_o_mode)3, 0>, ap_fixed<16, 6, (ap_q_mode)5, (ap_o_mode)3, 0>, ap_fixed<16, 6, (ap_q_mode)5, (ap_o_mode)3, 0>, config2>' completely with a factor of 14.\n",
      "ERROR: [XFORM 203-504] Stop unrolling loop 'Catapult_loop1' (firmware/nnet_utils/nnet_sepconv2d.h:36) in function 'nnet::separable_conv_2d_cl<ap_fixed<12, 3, (ap_q_mode)5, (ap_o_mode)3, 0>, ap_fixed<16, 6, (ap_q_mode)5, (ap_o_mode)3, 0>, ap_fixed<16, 6, (ap_q_mode)5, (ap_o_mode)3, 0>, config2>' because it may cause large runtime and excessive memory usage due to increase in code size. Please avoid unrolling the loop or form sub-functions for code in the loop body.\n",
      "ERROR: [HLS 200-70] Pre-synthesis failed.\n",
      "command 'ap_source' returned error code\n",
      "    while executing\n",
      "\"source build_prj.tcl\"\n",
      "    (\"uplevel\" body line 1)\n",
      "    invoked from within\n",
      "\"uplevel \\#0 [list source $arg] \"\n",
      "\n",
      "INFO: [Common 17-206] Exiting vivado_hls at Sat Apr 20 18:12:30 2024...\n",
      "CSynthesis report not found.\n",
      "Vivado synthesis report not found.\n",
      "Cosim report not found.\n",
      "Timing report not found.\n"
     ]
    },
    {
     "data": {
      "text/plain": [
       "{}"
      ]
     },
     "execution_count": 39,
     "metadata": {},
     "output_type": "execute_result"
    }
   ],
   "source": [
    "hls_kmodel.build(csim=False)"
   ]
  },
  {
   "cell_type": "code",
   "execution_count": null,
   "id": "8dc942a2-4313-4386-a89e-8c86daeb1dee",
   "metadata": {},
   "outputs": [
    {
     "name": "stdout",
     "output_type": "stream",
     "text": [
      "Found 1 solution(s) in /home/users/russelld/SepConv2D_hls4ml/small_hls4ml_prj/myproject_prj.\n",
      "Reports for solution \"solution1\":\n",
      "\n",
      "C simulation report not found.\n",
      "SYNTHESIS REPORT:\n",
      "================================================================\n",
      "== Vivado HLS Report for 'myproject'\n",
      "================================================================\n",
      "* Date:           Tue Dec 12 14:40:15 2023\n",
      "\n",
      "* Version:        2020.1 (Build 2897737 on Wed May 27 20:21:37 MDT 2020)\n",
      "* Project:        myproject_prj\n",
      "* Solution:       solution1\n",
      "* Product family: virtexuplus\n",
      "* Target device:  xcu250-figd2104-2L-e\n",
      "\n",
      "\n",
      "================================================================\n",
      "== Performance Estimates\n",
      "================================================================\n",
      "+ Timing: \n",
      "    * Summary: \n",
      "    +--------+---------+----------+------------+\n",
      "    |  Clock |  Target | Estimated| Uncertainty|\n",
      "    +--------+---------+----------+------------+\n",
      "    |ap_clk  | 5.00 ns | 4.062 ns |   0.62 ns  |\n",
      "    +--------+---------+----------+------------+\n",
      "\n",
      "+ Latency: \n",
      "    * Summary: \n",
      "    +---------+---------+----------+----------+-----+-----+----------+\n",
      "    |  Latency (cycles) |  Latency (absolute) |  Interval | Pipeline |\n",
      "    |   min   |   max   |    min   |    max   | min | max |   Type   |\n",
      "    +---------+---------+----------+----------+-----+-----+----------+\n",
      "    |        1|        1| 5.000 ns | 5.000 ns |    1|    1| function |\n",
      "    +---------+---------+----------+----------+-----+-----+----------+\n",
      "\n",
      "    + Detail: \n",
      "        * Instance: \n",
      "        +----------------------------------------------------------------------------------+----------------------------------------------------------------------+---------+---------+----------+----------+-----+-----+----------+\n",
      "        |                                                                                  |                                                                      |  Latency (cycles) |  Latency (absolute) |  Interval | Pipeline |\n",
      "        |                                     Instance                                     |                                Module                                |   min   |   max   |    min   |    max   | min | max |   Type   |\n",
      "        +----------------------------------------------------------------------------------+----------------------------------------------------------------------+---------+---------+----------+----------+-----+-----+----------+\n",
      "        |grp_separable_conv_2d_cl_ap_fixed_ap_fixed_ap_fixed_16_6_5_3_0_config2_s_fu_1762  |separable_conv_2d_cl_ap_fixed_ap_fixed_ap_fixed_16_6_5_3_0_config2_s  |        1|        1| 5.000 ns | 5.000 ns |    1|    1| function |\n",
      "        +----------------------------------------------------------------------------------+----------------------------------------------------------------------+---------+---------+----------+----------+-----+-----+----------+\n",
      "\n",
      "        * Loop: \n",
      "        N/A\n",
      "\n",
      "\n",
      "\n",
      "================================================================\n",
      "== Utilization Estimates\n",
      "================================================================\n",
      "* Summary: \n",
      "+---------------------+---------+-------+---------+---------+------+\n",
      "|         Name        | BRAM_18K| DSP48E|    FF   |   LUT   | URAM |\n",
      "+---------------------+---------+-------+---------+---------+------+\n",
      "|DSP                  |        -|      -|        -|        -|     -|\n",
      "|Expression           |        -|      -|        0|        6|     -|\n",
      "|FIFO                 |        -|      -|        -|        -|     -|\n",
      "|Instance             |        -|      -|     4369|    42816|     -|\n",
      "|Memory               |        -|      -|        -|        -|     -|\n",
      "|Multiplexer          |        -|      -|        -|       36|     -|\n",
      "|Register             |        -|      -|     3603|        -|     -|\n",
      "+---------------------+---------+-------+---------+---------+------+\n",
      "|Total                |        0|      0|     7972|    42858|     0|\n",
      "+---------------------+---------+-------+---------+---------+------+\n",
      "|Available SLR        |     1344|   3072|   864000|   432000|   320|\n",
      "+---------------------+---------+-------+---------+---------+------+\n",
      "|Utilization SLR (%)  |        0|      0|    ~0   |        9|     0|\n",
      "+---------------------+---------+-------+---------+---------+------+\n",
      "|Available            |     5376|  12288|  3456000|  1728000|  1280|\n",
      "+---------------------+---------+-------+---------+---------+------+\n",
      "|Utilization (%)      |        0|      0|    ~0   |        2|     0|\n",
      "+---------------------+---------+-------+---------+---------+------+\n",
      "\n",
      "+ Detail: \n",
      "    * Instance: \n",
      "    +----------------------------------------------------------------------------------+----------------------------------------------------------------------+---------+-------+------+-------+-----+\n",
      "    |                                     Instance                                     |                                Module                                | BRAM_18K| DSP48E|  FF  |  LUT  | URAM|\n",
      "    +----------------------------------------------------------------------------------+----------------------------------------------------------------------+---------+-------+------+-------+-----+\n",
      "    |grp_separable_conv_2d_cl_ap_fixed_ap_fixed_ap_fixed_16_6_5_3_0_config2_s_fu_1762  |separable_conv_2d_cl_ap_fixed_ap_fixed_ap_fixed_16_6_5_3_0_config2_s  |        0|      0|  4369|  42816|    0|\n",
      "    +----------------------------------------------------------------------------------+----------------------------------------------------------------------+---------+-------+------+-------+-----+\n",
      "    |Total                                                                             |                                                                      |        0|      0|  4369|  42816|    0|\n",
      "    +----------------------------------------------------------------------------------+----------------------------------------------------------------------+---------+-------+------+-------+-----+\n",
      "\n",
      "Co-simulation report not found.\n"
     ]
    }
   ],
   "source": [
    "hls4ml.report.read_vivado_report('/home/users/russelld/SepConv2D_hls4ml/small_hls4ml_prj')"
   ]
  },
  {
   "cell_type": "code",
   "execution_count": null,
   "id": "4392f7e9-e607-4f61-ae50-ef58375c32d9",
   "metadata": {},
   "outputs": [
    {
     "data": {
      "text/plain": [
       "'/home/users/russelld/sConv2D_hls4ml/SepConv2D_hls4ml/Software/hls4ml/hls4ml/__init__.py'"
      ]
     },
     "execution_count": 41,
     "metadata": {},
     "output_type": "execute_result"
    }
   ],
   "source": [
    "import hls4ml\n",
    "hls4ml.__file__"
   ]
  },
  {
   "attachments": {},
   "cell_type": "markdown",
   "id": "135e1cea-45f4-46ba-b41c-51cee57fdda2",
   "metadata": {},
   "source": [
    "# An actual model:"
   ]
  },
  {
   "cell_type": "code",
   "execution_count": null,
   "id": "7d7fdb21-a90f-41ea-9336-808ee3deb800",
   "metadata": {},
   "outputs": [],
   "source": [
    "from keras.models import load_model"
   ]
  },
  {
   "cell_type": "code",
   "execution_count": null,
   "id": "1bb550cf-19a4-46d7-a606-f639a2868816",
   "metadata": {},
   "outputs": [],
   "source": [
    "import os"
   ]
  },
  {
   "cell_type": "code",
   "execution_count": null,
   "id": "e8750d2f-8708-41e6-8679-644c7986ad7f",
   "metadata": {},
   "outputs": [],
   "source": [
    "#os.environ['PATH'] = '/home/xilinx/Vivado/2019.1/bin:' + os.environ['PATH'] #Scully "
   ]
  },
  {
   "cell_type": "code",
   "execution_count": null,
   "id": "bb279212-ce74-491e-b783-4b6072e44aaa",
   "metadata": {},
   "outputs": [],
   "source": [
    "os.environ['PATH'] = '/data/software/xilinx/Vivado/2020.1/bin:' + os.environ['PATH'] #Mulder"
   ]
  },
  {
   "cell_type": "code",
   "execution_count": null,
   "id": "9eec9af1-96a8-44ab-8ec8-f39e6c1ba127",
   "metadata": {},
   "outputs": [
    {
     "name": "stdout",
     "output_type": "stream",
     "text": [
      "WARNING:tensorflow:No training configuration found in the save file, so the model was *not* compiled. Compile it manually.\n"
     ]
    }
   ],
   "source": [
    "model = load_model(\"model_unpruned_3sepConv2d_2dense.h5\")"
   ]
  },
  {
   "cell_type": "code",
   "execution_count": null,
   "id": "4f4cbe2e-da7a-407a-8374-e0fa19824a45",
   "metadata": {},
   "outputs": [
    {
     "name": "stdout",
     "output_type": "stream",
     "text": [
      "Model: \"keras_baseline\"\n",
      "_________________________________________________________________\n",
      " Layer (type)                Output Shape              Param #   \n",
      "=================================================================\n",
      " Input (InputLayer)          [(None, 32, 32, 3)]       0         \n",
      "                                                                 \n",
      " pool1 (MaxPooling2D)        (None, 8, 8, 3)           0         \n",
      "                                                                 \n",
      " SepConv_0 (SeparableConv2D)  (None, 8, 8, 3)          39        \n",
      "                                                                 \n",
      " Sepconv_act_0 (Activation)  (None, 8, 8, 3)           0         \n",
      "                                                                 \n",
      " SepConv_1 (SeparableConv2D)  (None, 8, 8, 3)          39        \n",
      "                                                                 \n",
      " Sepconv_act_1 (Activation)  (None, 8, 8, 3)           0         \n",
      "                                                                 \n",
      " pool2 (MaxPooling2D)        (None, 4, 4, 3)           0         \n",
      "                                                                 \n",
      " flatten (Flatten)           (None, 48)                0         \n",
      "                                                                 \n",
      " dense_0 (Dense)             (None, 20)                980       \n",
      "                                                                 \n",
      " dense_act_0 (Activation)    (None, 20)                0         \n",
      "                                                                 \n",
      " dense_1 (Dense)             (None, 40)                840       \n",
      "                                                                 \n",
      " dense_act_1 (Activation)    (None, 40)                0         \n",
      "                                                                 \n",
      " output_dense (Dense)        (None, 10)                410       \n",
      "                                                                 \n",
      " output_softmax (Activation)  (None, 10)               0         \n",
      "                                                                 \n",
      "=================================================================\n",
      "Total params: 2,308\n",
      "Trainable params: 2,308\n",
      "Non-trainable params: 0\n",
      "_________________________________________________________________\n"
     ]
    }
   ],
   "source": [
    "model.summary()"
   ]
  },
  {
   "cell_type": "code",
   "execution_count": null,
   "id": "c18ae1ca-3add-4b6e-96c9-f33bcc9036f6",
   "metadata": {},
   "outputs": [
    {
     "data": {
      "image/png": "[encoded data removed]",
      "text/plain": [
       "<IPython.core.display.Image object>"
      ]
     },
     "execution_count": 48,
     "metadata": {},
     "output_type": "execute_result"
    }
   ],
   "source": [
    "import keras\n",
    "keras.utils.plot_model(model, to_file=\"model.png\",show_shapes=True, show_layer_activations=False)"
   ]
  },
  {
   "cell_type": "code",
   "execution_count": null,
   "id": "6237d201-422b-4329-9eb6-3838395b6a52",
   "metadata": {},
   "outputs": [],
   "source": [
    "import hls4ml.utils\n",
    "import hls4ml.converters"
   ]
  },
  {
   "cell_type": "code",
   "execution_count": null,
   "id": "420fac93-015b-4ee6-8787-56616dde2c6c",
   "metadata": {},
   "outputs": [
    {
     "name": "stdout",
     "output_type": "stream",
     "text": [
      "Interpreting Model\n",
      "Topology:\n",
      "Layer name: Input, layer type: InputLayer, input shapes: [[None, 32, 32, 3]], output shape: [None, 32, 32, 3]\n",
      "Layer name: pool1, layer type: MaxPooling2D, input shapes: [[None, 32, 32, 3]], output shape: [None, 8, 8, 3]\n",
      "Layer name: SepConv_0, layer type: SeparableConv2D, input shapes: [[None, 8, 8, 3]], output shape: [None, 8, 8, 3]\n",
      "Layer name: Sepconv_act_0, layer type: Activation, input shapes: [[None, 8, 8, 3]], output shape: [None, 8, 8, 3]\n",
      "Layer name: SepConv_1, layer type: SeparableConv2D, input shapes: [[None, 8, 8, 3]], output shape: [None, 8, 8, 3]\n",
      "Layer name: Sepconv_act_1, layer type: Activation, input shapes: [[None, 8, 8, 3]], output shape: [None, 8, 8, 3]\n",
      "Layer name: pool2, layer type: MaxPooling2D, input shapes: [[None, 8, 8, 3]], output shape: [None, 4, 4, 3]\n",
      "Layer name: flatten, layer type: Reshape, input shapes: [[None, 4, 4, 3]], output shape: [None, 48]\n",
      "Layer name: dense_0, layer type: Dense, input shapes: [[None, 48]], output shape: [None, 20]\n",
      "Layer name: dense_act_0, layer type: Activation, input shapes: [[None, 20]], output shape: [None, 20]\n",
      "Layer name: dense_1, layer type: Dense, input shapes: [[None, 20]], output shape: [None, 40]\n",
      "Layer name: dense_act_1, layer type: Activation, input shapes: [[None, 40]], output shape: [None, 40]\n",
      "Layer name: output_dense, layer type: Dense, input shapes: [[None, 40]], output shape: [None, 10]\n",
      "Layer name: output_softmax, layer type: Softmax, input shapes: [[None, 10]], output shape: [None, 10]\n",
      "-----------------------------------\n"
     ]
    }
   ],
   "source": [
    "config = hls4ml.utils.config_from_keras_model(model, granularity='name')\n",
    "print(\"-----------------------------------\")"
   ]
  },
  {
   "cell_type": "code",
   "execution_count": null,
   "id": "a2784982-2f26-459b-9861-a7bf316304b6",
   "metadata": {},
   "outputs": [],
   "source": [
    "IO_TYPE = 'io_parallel'\n",
    "STRATEGY = 'Latency'\n",
    "BACKEND = 'Vivado'\n",
    "FXD_W = 12 # Fixed-point precision, word bit width\n",
    "FXD_I = 11 # Fixed-point precision, integer-part bit width"
   ]
  },
  {
   "cell_type": "code",
   "execution_count": null,
   "id": "5c3a83ad-a718-4c6d-9768-a33aef81ef7f",
   "metadata": {},
   "outputs": [
    {
     "name": "stdout",
     "output_type": "stream",
     "text": [
      "Interpreting Model\n",
      "Topology:\n",
      "Layer name: Input, layer type: InputLayer, input shapes: [[None, 32, 32, 3]], output shape: [None, 32, 32, 3]\n",
      "Layer name: pool1, layer type: MaxPooling2D, input shapes: [[None, 32, 32, 3]], output shape: [None, 8, 8, 3]\n",
      "Layer name: SepConv_0, layer type: SeparableConv2D, input shapes: [[None, 8, 8, 3]], output shape: [None, 8, 8, 3]\n",
      "Layer name: Sepconv_act_0, layer type: Activation, input shapes: [[None, 8, 8, 3]], output shape: [None, 8, 8, 3]\n",
      "Layer name: SepConv_1, layer type: SeparableConv2D, input shapes: [[None, 8, 8, 3]], output shape: [None, 8, 8, 3]\n",
      "Layer name: Sepconv_act_1, layer type: Activation, input shapes: [[None, 8, 8, 3]], output shape: [None, 8, 8, 3]\n",
      "Layer name: pool2, layer type: MaxPooling2D, input shapes: [[None, 8, 8, 3]], output shape: [None, 4, 4, 3]\n",
      "Layer name: flatten, layer type: Reshape, input shapes: [[None, 4, 4, 3]], output shape: [None, 48]\n",
      "Layer name: dense_0, layer type: Dense, input shapes: [[None, 48]], output shape: [None, 20]\n",
      "Layer name: dense_act_0, layer type: Activation, input shapes: [[None, 20]], output shape: [None, 20]\n",
      "Layer name: dense_1, layer type: Dense, input shapes: [[None, 20]], output shape: [None, 40]\n",
      "Layer name: dense_act_1, layer type: Activation, input shapes: [[None, 40]], output shape: [None, 40]\n",
      "Layer name: output_dense, layer type: Dense, input shapes: [[None, 40]], output shape: [None, 10]\n",
      "Layer name: output_softmax, layer type: Softmax, input shapes: [[None, 10]], output shape: [None, 10]\n",
      "Creating HLS model\n",
      "Writing HLS project\n",
      "WARNING:tensorflow:Compiled the loaded model, but the compiled metrics have yet to be built. `model.compile_metrics` will be empty until you train or evaluate the model.\n"
     ]
    },
    {
     "ename": "KeyboardInterrupt",
     "evalue": "",
     "output_type": "error",
     "traceback": [
      "\u001b[0;31m---------------------------------------------------------------------------\u001b[0m",
      "\u001b[0;31mKeyboardInterrupt\u001b[0m                         Traceback (most recent call last)",
      "Cell \u001b[0;32mIn[52], line 15\u001b[0m\n\u001b[1;32m      4\u001b[0m \u001b[39m#config['Model']['Strategy'] = 'Resource'\u001b[39;00m\n\u001b[1;32m      6\u001b[0m hls_model \u001b[39m=\u001b[39m hls4ml\u001b[39m.\u001b[39mconverters\u001b[39m.\u001b[39mconvert_from_keras_model(\n\u001b[1;32m      7\u001b[0m     model, \n\u001b[1;32m      8\u001b[0m     hls_config\u001b[39m=\u001b[39mconfig, \n\u001b[0;32m   (...)\u001b[0m\n\u001b[1;32m     12\u001b[0m     io_type\u001b[39m=\u001b[39mIO_TYPE\n\u001b[1;32m     13\u001b[0m )\n\u001b[0;32m---> 15\u001b[0m hls_model\u001b[39m.\u001b[39;49mcompile()\n",
      "File \u001b[0;32m~/sConv2D_hls4ml/SepConv2D_hls4ml/Software/hls4ml/hls4ml/model/graph.py:646\u001b[0m, in \u001b[0;36mModelGraph.compile\u001b[0;34m(self)\u001b[0m\n\u001b[1;32m    641\u001b[0m \u001b[39mdef\u001b[39;00m \u001b[39mcompile\u001b[39m(\u001b[39mself\u001b[39m):\n\u001b[1;32m    642\u001b[0m \u001b[39m    \u001b[39m\u001b[39m\"\"\"Compile the generated project and link the library into current environment.\u001b[39;00m\n\u001b[1;32m    643\u001b[0m \n\u001b[1;32m    644\u001b[0m \u001b[39m    Users should call this function if they want to use `predict` functionality for simulation.\u001b[39;00m\n\u001b[1;32m    645\u001b[0m \u001b[39m    \"\"\"\u001b[39;00m\n\u001b[0;32m--> 646\u001b[0m     \u001b[39mself\u001b[39;49m\u001b[39m.\u001b[39;49mwrite()\n\u001b[1;32m    648\u001b[0m     lib_name \u001b[39m=\u001b[39m \u001b[39mself\u001b[39m\u001b[39m.\u001b[39mconfig\u001b[39m.\u001b[39mbackend\u001b[39m.\u001b[39mcompile(\u001b[39mself\u001b[39m)\n\u001b[1;32m    649\u001b[0m     \u001b[39mif\u001b[39;00m \u001b[39mself\u001b[39m\u001b[39m.\u001b[39m_top_function_lib \u001b[39mis\u001b[39;00m \u001b[39mnot\u001b[39;00m \u001b[39mNone\u001b[39;00m:\n",
      "File \u001b[0;32m~/sConv2D_hls4ml/SepConv2D_hls4ml/Software/hls4ml/hls4ml/model/graph.py:639\u001b[0m, in \u001b[0;36mModelGraph.write\u001b[0;34m(self)\u001b[0m\n\u001b[1;32m    632\u001b[0m \u001b[39mdef\u001b[39;00m \u001b[39mwrite\u001b[39m(\u001b[39mself\u001b[39m):\n\u001b[1;32m    633\u001b[0m \u001b[39m    \u001b[39m\u001b[39m\"\"\"Write the generated project to disk.\u001b[39;00m\n\u001b[1;32m    634\u001b[0m \n\u001b[1;32m    635\u001b[0m \u001b[39m    This function converts the model to C++ and writes the generated files in the output\u001b[39;00m\n\u001b[1;32m    636\u001b[0m \u001b[39m    directory specified in the `config`.\u001b[39;00m\n\u001b[1;32m    637\u001b[0m \u001b[39m    \"\"\"\u001b[39;00m\n\u001b[0;32m--> 639\u001b[0m     \u001b[39mself\u001b[39;49m\u001b[39m.\u001b[39;49mconfig\u001b[39m.\u001b[39;49mbackend\u001b[39m.\u001b[39;49mwrite(\u001b[39mself\u001b[39;49m)\n",
      "File \u001b[0;32m~/sConv2D_hls4ml/SepConv2D_hls4ml/Software/hls4ml/hls4ml/backends/fpga/fpga_backend.py:150\u001b[0m, in \u001b[0;36mFPGABackend.write\u001b[0;34m(self, model)\u001b[0m\n\u001b[1;32m    140\u001b[0m \u001b[39mdef\u001b[39;00m \u001b[39mwrite\u001b[39m(\u001b[39mself\u001b[39m, model):\n\u001b[1;32m    141\u001b[0m \u001b[39m    \u001b[39m\u001b[39m\"\"\"Write the generated project to disk.\u001b[39;00m\n\u001b[1;32m    142\u001b[0m \n\u001b[1;32m    143\u001b[0m \u001b[39m    This function converts the model to C++ and writes the generated files in the output\u001b[39;00m\n\u001b[0;32m   (...)\u001b[0m\n\u001b[1;32m    147\u001b[0m \u001b[39m        model (ModelGraph): Model to write.\u001b[39;00m\n\u001b[1;32m    148\u001b[0m \u001b[39m    \"\"\"\u001b[39;00m\n\u001b[0;32m--> 150\u001b[0m     model\u001b[39m.\u001b[39;49mapply_flow(\u001b[39mself\u001b[39;49m\u001b[39m.\u001b[39;49mget_writer_flow())\n",
      "File \u001b[0;32m~/sConv2D_hls4ml/SepConv2D_hls4ml/Software/hls4ml/hls4ml/model/graph.py:420\u001b[0m, in \u001b[0;36mModelGraph.apply_flow\u001b[0;34m(self, flow, reapply)\u001b[0m\n\u001b[1;32m    417\u001b[0m         \u001b[39mreturn\u001b[39;00m\n\u001b[1;32m    419\u001b[0m \u001b[39mself\u001b[39m\u001b[39m.\u001b[39m_applied_flows\u001b[39m.\u001b[39mappend(applied_flows)\n\u001b[0;32m--> 420\u001b[0m \u001b[39mself\u001b[39;49m\u001b[39m.\u001b[39;49m_apply_sub_flow(flow, applied_flows)\n",
      "File \u001b[0;32m~/sConv2D_hls4ml/SepConv2D_hls4ml/Software/hls4ml/hls4ml/model/graph.py:432\u001b[0m, in \u001b[0;36mModelGraph._apply_sub_flow\u001b[0;34m(self, flow_name, applied_flows)\u001b[0m\n\u001b[1;32m    429\u001b[0m         \u001b[39mself\u001b[39m\u001b[39m.\u001b[39m_apply_sub_flow(sub_flow, applied_flows)\n\u001b[1;32m    431\u001b[0m \u001b[39mif\u001b[39;00m \u001b[39mlen\u001b[39m(flow\u001b[39m.\u001b[39moptimizers) \u001b[39m>\u001b[39m \u001b[39m0\u001b[39m:\n\u001b[0;32m--> 432\u001b[0m     applied_passes \u001b[39m=\u001b[39m optimize_model(\u001b[39mself\u001b[39;49m, flow\u001b[39m.\u001b[39;49moptimizers)\n\u001b[1;32m    433\u001b[0m \u001b[39melse\u001b[39;00m:\n\u001b[1;32m    434\u001b[0m     applied_passes \u001b[39m=\u001b[39m \u001b[39mset\u001b[39m()\n",
      "File \u001b[0;32m~/sConv2D_hls4ml/SepConv2D_hls4ml/Software/hls4ml/hls4ml/model/optimizer/optimizer.py:312\u001b[0m, in \u001b[0;36moptimize_model\u001b[0;34m(model, passes)\u001b[0m\n\u001b[1;32m    310\u001b[0m \u001b[39mfor\u001b[39;00m opt_name, opt \u001b[39min\u001b[39;00m optimizers\u001b[39m.\u001b[39mitems():\n\u001b[1;32m    311\u001b[0m     \u001b[39mif\u001b[39;00m \u001b[39misinstance\u001b[39m(opt, ModelOptimizerPass) \u001b[39mand\u001b[39;00m opt_name \u001b[39mnot\u001b[39;00m \u001b[39min\u001b[39;00m applied_passes:\n\u001b[0;32m--> 312\u001b[0m         res \u001b[39m=\u001b[39m opt\u001b[39m.\u001b[39;49mtransform(model)\n\u001b[1;32m    313\u001b[0m         \u001b[39mif\u001b[39;00m res:\n\u001b[1;32m    314\u001b[0m             applied_passes\u001b[39m.\u001b[39madd(opt_name)\n",
      "File \u001b[0;32m~/sConv2D_hls4ml/SepConv2D_hls4ml/Software/hls4ml/hls4ml/model/optimizer/optimizer.py:94\u001b[0m, in \u001b[0;36mModelOptimizerPass.transform\u001b[0;34m(self, model)\u001b[0m\n\u001b[1;32m     93\u001b[0m \u001b[39mdef\u001b[39;00m \u001b[39mtransform\u001b[39m(\u001b[39mself\u001b[39m, model):\n\u001b[0;32m---> 94\u001b[0m     retval \u001b[39m=\u001b[39m \u001b[39mself\u001b[39;49m\u001b[39m.\u001b[39;49mtransform_func(model)\n\u001b[1;32m     95\u001b[0m     \u001b[39mreturn\u001b[39;00m retval \u001b[39mif\u001b[39;00m retval \u001b[39mis\u001b[39;00m \u001b[39mnot\u001b[39;00m \u001b[39mNone\u001b[39;00m \u001b[39melse\u001b[39;00m \u001b[39mFalse\u001b[39;00m\n",
      "File \u001b[0;32m~/sConv2D_hls4ml/SepConv2D_hls4ml/Software/hls4ml/hls4ml/backends/fpga/fpga_backend.py:865\u001b[0m, in \u001b[0;36mFPGABackend.write_hls\u001b[0;34m(self, model)\u001b[0m\n\u001b[1;32m    863\u001b[0m \u001b[39m@model_optimizer\u001b[39m()\n\u001b[1;32m    864\u001b[0m \u001b[39mdef\u001b[39;00m \u001b[39mwrite_hls\u001b[39m(\u001b[39mself\u001b[39m, model):\n\u001b[0;32m--> 865\u001b[0m     \u001b[39mself\u001b[39;49m\u001b[39m.\u001b[39;49mwriter\u001b[39m.\u001b[39;49mwrite_hls(model)\n\u001b[1;32m    866\u001b[0m     \u001b[39mreturn\u001b[39;00m \u001b[39mTrue\u001b[39;00m\n",
      "File \u001b[0;32m~/sConv2D_hls4ml/SepConv2D_hls4ml/Software/hls4ml/hls4ml/writer/vivado_writer.py:727\u001b[0m, in \u001b[0;36mVivadoWriter.write_hls\u001b[0;34m(self, model)\u001b[0m\n\u001b[1;32m    725\u001b[0m \u001b[39mself\u001b[39m\u001b[39m.\u001b[39mwrite_generated_code(model)\n\u001b[1;32m    726\u001b[0m \u001b[39mself\u001b[39m\u001b[39m.\u001b[39mwrite_yml(model)\n\u001b[0;32m--> 727\u001b[0m \u001b[39mself\u001b[39;49m\u001b[39m.\u001b[39;49mwrite_tar(model)\n\u001b[1;32m    728\u001b[0m \u001b[39mprint\u001b[39m(\u001b[39m'\u001b[39m\u001b[39mDone\u001b[39m\u001b[39m'\u001b[39m)\n",
      "File \u001b[0;32m~/sConv2D_hls4ml/SepConv2D_hls4ml/Software/hls4ml/hls4ml/writer/vivado_writer.py:711\u001b[0m, in \u001b[0;36mVivadoWriter.write_tar\u001b[0;34m(self, model)\u001b[0m\n\u001b[1;32m    704\u001b[0m \u001b[39m\u001b[39m\u001b[39m\"\"\"Write the generated project as a .tar.gz archive\u001b[39;00m\n\u001b[1;32m    705\u001b[0m \n\u001b[1;32m    706\u001b[0m \u001b[39mArgs:\u001b[39;00m\n\u001b[1;32m    707\u001b[0m \u001b[39m    model (ModelGraph): the hls4ml model.\u001b[39;00m\n\u001b[1;32m    708\u001b[0m \u001b[39m\"\"\"\u001b[39;00m\n\u001b[1;32m    710\u001b[0m \u001b[39mwith\u001b[39;00m tarfile\u001b[39m.\u001b[39mopen(model\u001b[39m.\u001b[39mconfig\u001b[39m.\u001b[39mget_output_dir() \u001b[39m+\u001b[39m \u001b[39m'\u001b[39m\u001b[39m.tar.gz\u001b[39m\u001b[39m'\u001b[39m, mode\u001b[39m=\u001b[39m\u001b[39m'\u001b[39m\u001b[39mw:gz\u001b[39m\u001b[39m'\u001b[39m) \u001b[39mas\u001b[39;00m archive:\n\u001b[0;32m--> 711\u001b[0m     archive\u001b[39m.\u001b[39;49madd(model\u001b[39m.\u001b[39;49mconfig\u001b[39m.\u001b[39;49mget_output_dir(), recursive\u001b[39m=\u001b[39;49m\u001b[39mTrue\u001b[39;49;00m)\n",
      "File \u001b[0;32m~/micromamba/envs/sepC2/lib/python3.10/tarfile.py:2008\u001b[0m, in \u001b[0;36mTarFile.add\u001b[0;34m(self, name, arcname, recursive, filter)\u001b[0m\n\u001b[1;32m   2006\u001b[0m     \u001b[39mif\u001b[39;00m recursive:\n\u001b[1;32m   2007\u001b[0m         \u001b[39mfor\u001b[39;00m f \u001b[39min\u001b[39;00m \u001b[39msorted\u001b[39m(os\u001b[39m.\u001b[39mlistdir(name)):\n\u001b[0;32m-> 2008\u001b[0m             \u001b[39mself\u001b[39;49m\u001b[39m.\u001b[39;49madd(os\u001b[39m.\u001b[39;49mpath\u001b[39m.\u001b[39;49mjoin(name, f), os\u001b[39m.\u001b[39;49mpath\u001b[39m.\u001b[39;49mjoin(arcname, f),\n\u001b[1;32m   2009\u001b[0m                     recursive, \u001b[39mfilter\u001b[39;49m\u001b[39m=\u001b[39;49m\u001b[39mfilter\u001b[39;49m)\n\u001b[1;32m   2011\u001b[0m \u001b[39melse\u001b[39;00m:\n\u001b[1;32m   2012\u001b[0m     \u001b[39mself\u001b[39m\u001b[39m.\u001b[39maddfile(tarinfo)\n",
      "File \u001b[0;32m~/micromamba/envs/sepC2/lib/python3.10/tarfile.py:2008\u001b[0m, in \u001b[0;36mTarFile.add\u001b[0;34m(self, name, arcname, recursive, filter)\u001b[0m\n\u001b[1;32m   2006\u001b[0m     \u001b[39mif\u001b[39;00m recursive:\n\u001b[1;32m   2007\u001b[0m         \u001b[39mfor\u001b[39;00m f \u001b[39min\u001b[39;00m \u001b[39msorted\u001b[39m(os\u001b[39m.\u001b[39mlistdir(name)):\n\u001b[0;32m-> 2008\u001b[0m             \u001b[39mself\u001b[39;49m\u001b[39m.\u001b[39;49madd(os\u001b[39m.\u001b[39;49mpath\u001b[39m.\u001b[39;49mjoin(name, f), os\u001b[39m.\u001b[39;49mpath\u001b[39m.\u001b[39;49mjoin(arcname, f),\n\u001b[1;32m   2009\u001b[0m                     recursive, \u001b[39mfilter\u001b[39;49m\u001b[39m=\u001b[39;49m\u001b[39mfilter\u001b[39;49m)\n\u001b[1;32m   2011\u001b[0m \u001b[39melse\u001b[39;00m:\n\u001b[1;32m   2012\u001b[0m     \u001b[39mself\u001b[39m\u001b[39m.\u001b[39maddfile(tarinfo)\n",
      "    \u001b[0;31m[... skipping similar frames: TarFile.add at line 2008 (2 times)]\u001b[0m\n",
      "File \u001b[0;32m~/micromamba/envs/sepC2/lib/python3.10/tarfile.py:2008\u001b[0m, in \u001b[0;36mTarFile.add\u001b[0;34m(self, name, arcname, recursive, filter)\u001b[0m\n\u001b[1;32m   2006\u001b[0m     \u001b[39mif\u001b[39;00m recursive:\n\u001b[1;32m   2007\u001b[0m         \u001b[39mfor\u001b[39;00m f \u001b[39min\u001b[39;00m \u001b[39msorted\u001b[39m(os\u001b[39m.\u001b[39mlistdir(name)):\n\u001b[0;32m-> 2008\u001b[0m             \u001b[39mself\u001b[39;49m\u001b[39m.\u001b[39;49madd(os\u001b[39m.\u001b[39;49mpath\u001b[39m.\u001b[39;49mjoin(name, f), os\u001b[39m.\u001b[39;49mpath\u001b[39m.\u001b[39;49mjoin(arcname, f),\n\u001b[1;32m   2009\u001b[0m                     recursive, \u001b[39mfilter\u001b[39;49m\u001b[39m=\u001b[39;49m\u001b[39mfilter\u001b[39;49m)\n\u001b[1;32m   2011\u001b[0m \u001b[39melse\u001b[39;00m:\n\u001b[1;32m   2012\u001b[0m     \u001b[39mself\u001b[39m\u001b[39m.\u001b[39maddfile(tarinfo)\n",
      "File \u001b[0;32m~/micromamba/envs/sepC2/lib/python3.10/tarfile.py:2002\u001b[0m, in \u001b[0;36mTarFile.add\u001b[0;34m(self, name, arcname, recursive, filter)\u001b[0m\n\u001b[1;32m   2000\u001b[0m \u001b[39mif\u001b[39;00m tarinfo\u001b[39m.\u001b[39misreg():\n\u001b[1;32m   2001\u001b[0m     \u001b[39mwith\u001b[39;00m bltn_open(name, \u001b[39m\"\u001b[39m\u001b[39mrb\u001b[39m\u001b[39m\"\u001b[39m) \u001b[39mas\u001b[39;00m f:\n\u001b[0;32m-> 2002\u001b[0m         \u001b[39mself\u001b[39;49m\u001b[39m.\u001b[39;49maddfile(tarinfo, f)\n\u001b[1;32m   2004\u001b[0m \u001b[39melif\u001b[39;00m tarinfo\u001b[39m.\u001b[39misdir():\n\u001b[1;32m   2005\u001b[0m     \u001b[39mself\u001b[39m\u001b[39m.\u001b[39maddfile(tarinfo)\n",
      "File \u001b[0;32m~/micromamba/envs/sepC2/lib/python3.10/tarfile.py:2030\u001b[0m, in \u001b[0;36mTarFile.addfile\u001b[0;34m(self, tarinfo, fileobj)\u001b[0m\n\u001b[1;32m   2028\u001b[0m \u001b[39m# If there's data to follow, append it.\u001b[39;00m\n\u001b[1;32m   2029\u001b[0m \u001b[39mif\u001b[39;00m fileobj \u001b[39mis\u001b[39;00m \u001b[39mnot\u001b[39;00m \u001b[39mNone\u001b[39;00m:\n\u001b[0;32m-> 2030\u001b[0m     copyfileobj(fileobj, \u001b[39mself\u001b[39;49m\u001b[39m.\u001b[39;49mfileobj, tarinfo\u001b[39m.\u001b[39;49msize, bufsize\u001b[39m=\u001b[39;49mbufsize)\n\u001b[1;32m   2031\u001b[0m     blocks, remainder \u001b[39m=\u001b[39m \u001b[39mdivmod\u001b[39m(tarinfo\u001b[39m.\u001b[39msize, BLOCKSIZE)\n\u001b[1;32m   2032\u001b[0m     \u001b[39mif\u001b[39;00m remainder \u001b[39m>\u001b[39m \u001b[39m0\u001b[39m:\n",
      "File \u001b[0;32m~/micromamba/envs/sepC2/lib/python3.10/tarfile.py:251\u001b[0m, in \u001b[0;36mcopyfileobj\u001b[0;34m(src, dst, length, exception, bufsize)\u001b[0m\n\u001b[1;32m    249\u001b[0m     \u001b[39mif\u001b[39;00m \u001b[39mlen\u001b[39m(buf) \u001b[39m<\u001b[39m bufsize:\n\u001b[1;32m    250\u001b[0m         \u001b[39mraise\u001b[39;00m exception(\u001b[39m\"\u001b[39m\u001b[39munexpected end of data\u001b[39m\u001b[39m\"\u001b[39m)\n\u001b[0;32m--> 251\u001b[0m     dst\u001b[39m.\u001b[39;49mwrite(buf)\n\u001b[1;32m    253\u001b[0m \u001b[39mif\u001b[39;00m remainder \u001b[39m!=\u001b[39m \u001b[39m0\u001b[39m:\n\u001b[1;32m    254\u001b[0m     buf \u001b[39m=\u001b[39m src\u001b[39m.\u001b[39mread(remainder)\n",
      "File \u001b[0;32m~/micromamba/envs/sepC2/lib/python3.10/gzip.py:289\u001b[0m, in \u001b[0;36mGzipFile.write\u001b[0;34m(self, data)\u001b[0m\n\u001b[1;32m    286\u001b[0m     length \u001b[39m=\u001b[39m data\u001b[39m.\u001b[39mnbytes\n\u001b[1;32m    288\u001b[0m \u001b[39mif\u001b[39;00m length \u001b[39m>\u001b[39m \u001b[39m0\u001b[39m:\n\u001b[0;32m--> 289\u001b[0m     \u001b[39mself\u001b[39m\u001b[39m.\u001b[39mfileobj\u001b[39m.\u001b[39mwrite(\u001b[39mself\u001b[39;49m\u001b[39m.\u001b[39;49mcompress\u001b[39m.\u001b[39;49mcompress(data))\n\u001b[1;32m    290\u001b[0m     \u001b[39mself\u001b[39m\u001b[39m.\u001b[39msize \u001b[39m+\u001b[39m\u001b[39m=\u001b[39m length\n\u001b[1;32m    291\u001b[0m     \u001b[39mself\u001b[39m\u001b[39m.\u001b[39mcrc \u001b[39m=\u001b[39m zlib\u001b[39m.\u001b[39mcrc32(data, \u001b[39mself\u001b[39m\u001b[39m.\u001b[39mcrc)\n",
      "\u001b[0;31mKeyboardInterrupt\u001b[0m: "
     ]
    }
   ],
   "source": [
    "#config['LayerName']['q_input_1']['Precision']['result'] = 'fixed<{},{}>'.format(FXD_W, FXD_I)\n",
    "config['LayerName']['Input']['Precision']['result'] = 'fixed<{},{}>'.format(FXD_W, FXD_I)\n",
    "config['Model']['Strategy'] = STRATEGY\n",
    "#config['Model']['Strategy'] = 'Resource'\n",
    "\n",
    "hls_model = hls4ml.converters.convert_from_keras_model(\n",
    "    model, \n",
    "    hls_config=config, \n",
    "    output_dir='hls4ml_prj', \n",
    "    part='xcu250-figd2104-2L-e',\n",
    "    backend=BACKEND,\n",
    "    io_type=IO_TYPE\n",
    ")\n",
    "\n",
    "hls_model.compile()"
   ]
  },
  {
   "cell_type": "code",
   "execution_count": null,
   "id": "0b97b723-3955-4b7f-a50c-a8abe8f7a84d",
   "metadata": {},
   "outputs": [
    {
     "name": "stdout",
     "output_type": "stream",
     "text": [
      "\n",
      "****** Vivado(TM) HLS - High-Level Synthesis from C, C++ and SystemC v2020.1 (64-bit)\n",
      "  **** SW Build 2902540 on Wed May 27 19:54:35 MDT 2020\n",
      "  **** IP Build 2902112 on Wed May 27 22:43:36 MDT 2020\n",
      "    ** Copyright 1986-2020 Xilinx, Inc. All Rights Reserved.\n",
      "\n",
      "source /data/software/xilinx/Vivado/2020.1/scripts/vivado_hls/hls.tcl -notrace\n",
      "INFO: Applying HLS Y2K22 patch v1.2 for IP revision\n",
      "INFO: [HLS 200-10] Running '/data/software/xilinx/Vivado/2020.1/bin/unwrapped/lnx64.o/vivado_hls'\n",
      "INFO: [HLS 200-10] For user 'russelld' on host 'mulder.t2.ucsd.edu' (Linux_x86_64 version 4.18.0-425.3.1.el8.x86_64) on Mon Jan 22 14:52:11 PST 2024\n",
      "INFO: [HLS 200-10] In directory '/home/users/russelld/sConv2D_hls4ml/SepConv2D_hls4ml/hls4ml_prj'\n",
      "Sourcing Tcl script 'build_prj.tcl'\n",
      "INFO: [HLS 200-10] Opening project '/home/users/russelld/sConv2D_hls4ml/SepConv2D_hls4ml/hls4ml_prj/myproject_prj'.\n",
      "INFO: [HLS 200-10] Adding design file 'firmware/myproject.cpp' to the project\n",
      "INFO: [HLS 200-10] Adding test bench file 'myproject_test.cpp' to the project\n",
      "INFO: [HLS 200-10] Adding test bench file 'firmware/weights' to the project\n",
      "INFO: [HLS 200-10] Adding test bench file 'tb_data' to the project\n",
      "INFO: [HLS 200-10] Opening solution '/home/users/russelld/sConv2D_hls4ml/SepConv2D_hls4ml/hls4ml_prj/myproject_prj/solution1'.\n",
      "INFO: [SYN 201-201] Setting up clock 'default' with a period of 5ns.\n",
      "INFO: [SYN 201-201] Setting up clock 'default' with an uncertainty of 0.625ns.\n",
      "INFO: [HLS 200-10] Setting target device to 'xcu250-figd2104-2L-e'\n",
      "INFO: [XFORM 203-101] Allowed max sub elements number after partition is 4096.\n",
      "INFO: [XFORM 203-1161] The maximum of name length is set into 80.\n",
      "INFO: [XFORM 203-101] Allowed max sub elements number after partition is 4096.\n",
      "INFO: [XFORM 203-1161] The maximum of name length is set into 80.\n",
      "***** C/RTL SYNTHESIS *****\n",
      "INFO: [SCHED 204-61] Option 'relax_ii_for_timing' is enabled, will increase II to preserve clock frequency constraints.\n",
      "INFO: [HLS 200-10] Analyzing design file 'firmware/myproject.cpp' ... \n",
      "INFO: [HLS 200-111] Finished Linking Time (s): cpu = 00:00:26 ; elapsed = 00:00:27 . Memory (MB): peak = 1869.238 ; gain = 1233.949 ; free physical = 103601 ; free virtual = 128266\n",
      "INFO: [HLS 200-111] Finished Checking Pragmas Time (s): cpu = 00:00:26 ; elapsed = 00:00:27 . Memory (MB): peak = 1869.238 ; gain = 1233.949 ; free physical = 103601 ; free virtual = 128266\n",
      "INFO: [HLS 200-10] Starting code transformations ...\n",
      "INFO: [XFORM 203-603] Inlining function 'nnet::pointwise_conv_2d_latency_cl<ap_fixed<16, 6, (ap_q_mode)5, (ap_o_mode)3, 0>, ap_fixed<16, 6, (ap_q_mode)5, (ap_o_mode)3, 0>, config3_pointwise>' into 'nnet::pointwise_conv_2d_cl<ap_fixed<16, 6, (ap_q_mode)5, (ap_o_mode)3, 0>, ap_fixed<16, 6, (ap_q_mode)5, (ap_o_mode)3, 0>, config3_pointwise>' (firmware/nnet_utils/nnet_conv2d.h:103).\n",
      "INFO: [XFORM 203-603] Inlining function 'nnet::depthwise_conv_2d_cl<ap_fixed<16, 6, (ap_q_mode)5, (ap_o_mode)3, 0>, ap_fixed<16, 6, (ap_q_mode)5, (ap_o_mode)3, 0>, config3_depthwise>' into 'nnet::separable_conv_2d_cl<ap_fixed<16, 6, (ap_q_mode)5, (ap_o_mode)3, 0>, ap_fixed<16, 6, (ap_q_mode)5, (ap_o_mode)3, 0>, ap_fixed<16, 6, (ap_q_mode)5, (ap_o_mode)3, 0>, config3>' (firmware/nnet_utils/nnet_sepconv2d.h:136).\n",
      "INFO: [XFORM 203-603] Inlining function 'nnet::pointwise_conv_2d_cl<ap_fixed<16, 6, (ap_q_mode)5, (ap_o_mode)3, 0>, ap_fixed<16, 6, (ap_q_mode)5, (ap_o_mode)3, 0>, config3_pointwise>' into 'nnet::separable_conv_2d_cl<ap_fixed<16, 6, (ap_q_mode)5, (ap_o_mode)3, 0>, ap_fixed<16, 6, (ap_q_mode)5, (ap_o_mode)3, 0>, ap_fixed<16, 6, (ap_q_mode)5, (ap_o_mode)3, 0>, config3>' (firmware/nnet_utils/nnet_sepconv2d.h:138).\n",
      "INFO: [XFORM 203-603] Inlining function 'nnet::pointwise_conv_2d_latency_cl<ap_fixed<16, 6, (ap_q_mode)5, (ap_o_mode)3, 0>, ap_fixed<16, 6, (ap_q_mode)5, (ap_o_mode)3, 0>, config6_pointwise>' into 'nnet::pointwise_conv_2d_cl<ap_fixed<16, 6, (ap_q_mode)5, (ap_o_mode)3, 0>, ap_fixed<16, 6, (ap_q_mode)5, (ap_o_mode)3, 0>, config6_pointwise>' (firmware/nnet_utils/nnet_conv2d.h:103).\n",
      "INFO: [XFORM 203-603] Inlining function 'nnet::depthwise_conv_2d_cl<ap_fixed<16, 6, (ap_q_mode)5, (ap_o_mode)3, 0>, ap_fixed<16, 6, (ap_q_mode)5, (ap_o_mode)3, 0>, config6_depthwise>' into 'nnet::separable_conv_2d_cl<ap_fixed<16, 6, (ap_q_mode)5, (ap_o_mode)3, 0>, ap_fixed<16, 6, (ap_q_mode)5, (ap_o_mode)3, 0>, ap_fixed<16, 6, (ap_q_mode)5, (ap_o_mode)3, 0>, config6>' (firmware/nnet_utils/nnet_sepconv2d.h:136).\n",
      "INFO: [XFORM 203-603] Inlining function 'nnet::pointwise_conv_2d_cl<ap_fixed<16, 6, (ap_q_mode)5, (ap_o_mode)3, 0>, ap_fixed<16, 6, (ap_q_mode)5, (ap_o_mode)3, 0>, config6_pointwise>' into 'nnet::separable_conv_2d_cl<ap_fixed<16, 6, (ap_q_mode)5, (ap_o_mode)3, 0>, ap_fixed<16, 6, (ap_q_mode)5, (ap_o_mode)3, 0>, ap_fixed<16, 6, (ap_q_mode)5, (ap_o_mode)3, 0>, config6>' (firmware/nnet_utils/nnet_sepconv2d.h:138).\n",
      "INFO: [XFORM 203-603] Inlining function 'nnet::product::mult<ap_fixed<16, 6, (ap_q_mode)5, (ap_o_mode)3, 0>, ap_fixed<16, 6, (ap_q_mode)5, (ap_o_mode)3, 0> >::product' into 'nnet::dense_latency<ap_fixed<16, 6, (ap_q_mode)5, (ap_o_mode)3, 0>, ap_fixed<16, 6, (ap_q_mode)5, (ap_o_mode)3, 0>, config11>' (firmware/nnet_utils/nnet_dense_latency.h:42).\n",
      "INFO: [XFORM 203-603] Inlining function 'nnet::product::mult<ap_fixed<16, 6, (ap_q_mode)5, (ap_o_mode)3, 0>, ap_fixed<16, 6, (ap_q_mode)5, (ap_o_mode)3, 0> >::product' into 'nnet::dense_latency<ap_fixed<16, 6, (ap_q_mode)5, (ap_o_mode)3, 0>, ap_fixed<16, 6, (ap_q_mode)5, (ap_o_mode)3, 0>, config14>' (firmware/nnet_utils/nnet_dense_latency.h:42).\n",
      "INFO: [XFORM 203-603] Inlining function 'nnet::product::mult<ap_fixed<16, 6, (ap_q_mode)5, (ap_o_mode)3, 0>, ap_fixed<16, 6, (ap_q_mode)5, (ap_o_mode)3, 0> >::product' into 'nnet::dense_latency<ap_fixed<16, 6, (ap_q_mode)5, (ap_o_mode)3, 0>, ap_fixed<16, 6, (ap_q_mode)5, (ap_o_mode)3, 0>, config17>' (firmware/nnet_utils/nnet_dense_latency.h:42).\n",
      "INFO: [XFORM 203-603] Inlining function 'nnet::dense<ap_fixed<16, 6, (ap_q_mode)5, (ap_o_mode)3, 0>, ap_fixed<16, 6, (ap_q_mode)5, (ap_o_mode)3, 0>, config11>' into 'myproject' (firmware/myproject.cpp:72).\n",
      "INFO: [XFORM 203-603] Inlining function 'nnet::dense<ap_fixed<16, 6, (ap_q_mode)5, (ap_o_mode)3, 0>, ap_fixed<16, 6, (ap_q_mode)5, (ap_o_mode)3, 0>, config14>' into 'myproject' (firmware/myproject.cpp:80).\n",
      "INFO: [XFORM 203-603] Inlining function 'nnet::dense<ap_fixed<16, 6, (ap_q_mode)5, (ap_o_mode)3, 0>, ap_fixed<16, 6, (ap_q_mode)5, (ap_o_mode)3, 0>, config17>' into 'myproject' (firmware/myproject.cpp:88).\n",
      "INFO: [XFORM 203-603] Inlining function 'nnet::softmax<ap_fixed<16, 6, (ap_q_mode)5, (ap_o_mode)3, 0>, ap_fixed<16, 6, (ap_q_mode)5, (ap_o_mode)3, 0>, softmax_config19>' into 'myproject' (firmware/myproject.cpp:90).\n",
      "INFO: [HLS 200-111] Finished Standard Transforms Time (s): cpu = 00:00:29 ; elapsed = 00:00:30 . Memory (MB): peak = 1869.238 ; gain = 1233.949 ; free physical = 103563 ; free virtual = 128228\n",
      "INFO: [HLS 200-10] Checking synthesizability ...\n",
      "INFO: [XFORM 203-602] Inlining function 'nnet::max<ap_fixed<12, 11, (ap_q_mode)5, (ap_o_mode)3, 0>, 16>' into 'nnet::pool_op<ap_fixed<12, 11, (ap_q_mode)5, (ap_o_mode)3, 0>, 16, (nnet::Pool_Op)0>' (firmware/nnet_utils/nnet_pooling.h:57) automatically.\n",
      "INFO: [XFORM 203-602] Inlining function 'nnet::pool_op_limit<config2>' into 'nnet::pooling2d_cl<ap_fixed<12, 11, (ap_q_mode)5, (ap_o_mode)3, 0>, ap_fixed<16, 6, (ap_q_mode)5, (ap_o_mode)3, 0>, config2>' (firmware/nnet_utils/nnet_pooling.h:205) automatically.\n",
      "INFO: [XFORM 203-602] Inlining function 'nnet::pad_val<ap_fixed<12, 11, (ap_q_mode)5, (ap_o_mode)3, 0>, (nnet::Pool_Op)0>' into 'nnet::pooling2d_cl<ap_fixed<12, 11, (ap_q_mode)5, (ap_o_mode)3, 0>, ap_fixed<16, 6, (ap_q_mode)5, (ap_o_mode)3, 0>, config2>' (firmware/nnet_utils/nnet_pooling.h:231) automatically.\n",
      "INFO: [XFORM 203-602] Inlining function 'nnet::pool_op<ap_fixed<12, 11, (ap_q_mode)5, (ap_o_mode)3, 0>, 16, (nnet::Pool_Op)0>' into 'nnet::pooling2d_cl<ap_fixed<12, 11, (ap_q_mode)5, (ap_o_mode)3, 0>, ap_fixed<16, 6, (ap_q_mode)5, (ap_o_mode)3, 0>, config2>' (firmware/nnet_utils/nnet_pooling.h:247) automatically.\n",
      "INFO: [XFORM 203-602] Inlining function 'nnet::max<ap_fixed<16, 6, (ap_q_mode)5, (ap_o_mode)3, 0>, 4>' into 'nnet::pool_op<ap_fixed<16, 6, (ap_q_mode)5, (ap_o_mode)3, 0>, 4, (nnet::Pool_Op)0>' (firmware/nnet_utils/nnet_pooling.h:57) automatically.\n",
      "INFO: [XFORM 203-602] Inlining function 'nnet::pool_op_limit<config9>' into 'nnet::pooling2d_cl<ap_fixed<16, 6, (ap_q_mode)5, (ap_o_mode)3, 0>, ap_fixed<16, 6, (ap_q_mode)5, (ap_o_mode)3, 0>, config9>' (firmware/nnet_utils/nnet_pooling.h:205) automatically.\n",
      "INFO: [XFORM 203-602] Inlining function 'nnet::pad_val<ap_fixed<16, 6, (ap_q_mode)5, (ap_o_mode)3, 0>, (nnet::Pool_Op)0>' into 'nnet::pooling2d_cl<ap_fixed<16, 6, (ap_q_mode)5, (ap_o_mode)3, 0>, ap_fixed<16, 6, (ap_q_mode)5, (ap_o_mode)3, 0>, config9>' (firmware/nnet_utils/nnet_pooling.h:231) automatically.\n",
      "INFO: [XFORM 203-602] Inlining function 'nnet::pool_op<ap_fixed<16, 6, (ap_q_mode)5, (ap_o_mode)3, 0>, 4, (nnet::Pool_Op)0>' into 'nnet::pooling2d_cl<ap_fixed<16, 6, (ap_q_mode)5, (ap_o_mode)3, 0>, ap_fixed<16, 6, (ap_q_mode)5, (ap_o_mode)3, 0>, config9>' (firmware/nnet_utils/nnet_pooling.h:247) automatically.\n",
      "INFO: [XFORM 203-602] Inlining function 'nnet::cast<ap_fixed<16, 6, (ap_q_mode)5, (ap_o_mode)3, 0>, ap_fixed<16, 6, (ap_q_mode)5, (ap_o_mode)3, 0>, config11>' into 'nnet::dense_latency<ap_fixed<16, 6, (ap_q_mode)5, (ap_o_mode)3, 0>, ap_fixed<16, 6, (ap_q_mode)5, (ap_o_mode)3, 0>, config11>' (firmware/nnet_utils/nnet_dense_latency.h:66) automatically.\n",
      "INFO: [XFORM 203-602] Inlining function 'nnet::cast<ap_fixed<16, 6, (ap_q_mode)5, (ap_o_mode)3, 0>, ap_fixed<16, 6, (ap_q_mode)5, (ap_o_mode)3, 0>, config14>' into 'nnet::dense_latency<ap_fixed<16, 6, (ap_q_mode)5, (ap_o_mode)3, 0>, ap_fixed<16, 6, (ap_q_mode)5, (ap_o_mode)3, 0>, config14>' (firmware/nnet_utils/nnet_dense_latency.h:66) automatically.\n",
      "INFO: [XFORM 203-602] Inlining function 'nnet::cast<ap_fixed<16, 6, (ap_q_mode)5, (ap_o_mode)3, 0>, ap_fixed<16, 6, (ap_q_mode)5, (ap_o_mode)3, 0>, config17>' into 'nnet::dense_latency<ap_fixed<16, 6, (ap_q_mode)5, (ap_o_mode)3, 0>, ap_fixed<16, 6, (ap_q_mode)5, (ap_o_mode)3, 0>, config17>' (firmware/nnet_utils/nnet_dense_latency.h:66) automatically.\n",
      "INFO: [XFORM 203-602] Inlining function 'nnet::Op_max<ap_fixed<16, 6, (ap_q_mode)5, (ap_o_mode)3, 0> >::operator()' into 'nnet::reduce<ap_fixed<16, 6, (ap_q_mode)5, (ap_o_mode)3, 0>, 2, nnet::Op_max<ap_fixed<16, 6, (ap_q_mode)5, (ap_o_mode)3, 0> > >' (firmware/nnet_utils/nnet_common.h:43) automatically.\n",
      "INFO: [XFORM 203-602] Inlining function 'nnet::reduce<ap_fixed<16, 6, (ap_q_mode)5, (ap_o_mode)3, 0>, 2, nnet::Op_max<ap_fixed<16, 6, (ap_q_mode)5, (ap_o_mode)3, 0> > >' into 'nnet::reduce<ap_fixed<16, 6, (ap_q_mode)5, (ap_o_mode)3, 0>, 4, nnet::Op_max<ap_fixed<16, 6, (ap_q_mode)5, (ap_o_mode)3, 0> > >' (firmware/nnet_utils/nnet_common.h:45) automatically.\n",
      "INFO: [XFORM 203-602] Inlining function 'nnet::Op_max<ap_fixed<16, 6, (ap_q_mode)5, (ap_o_mode)3, 0> >::operator()' into 'nnet::reduce<ap_fixed<16, 6, (ap_q_mode)5, (ap_o_mode)3, 0>, 4, nnet::Op_max<ap_fixed<16, 6, (ap_q_mode)5, (ap_o_mode)3, 0> > >' (firmware/nnet_utils/nnet_common.h:45) automatically.\n",
      "INFO: [XFORM 203-602] Inlining function 'nnet::Op_max<ap_fixed<16, 6, (ap_q_mode)5, (ap_o_mode)3, 0> >::operator()' into 'nnet::reduce<ap_fixed<16, 6, (ap_q_mode)5, (ap_o_mode)3, 0>, 8, nnet::Op_max<ap_fixed<16, 6, (ap_q_mode)5, (ap_o_mode)3, 0> > >' (firmware/nnet_utils/nnet_common.h:45) automatically.\n",
      "INFO: [XFORM 203-602] Inlining function 'nnet::reduce<ap_fixed<16, 6, (ap_q_mode)5, (ap_o_mode)3, 0>, 8, nnet::Op_max<ap_fixed<16, 6, (ap_q_mode)5, (ap_o_mode)3, 0> > >' into 'nnet::reduce<ap_fixed<16, 6, (ap_q_mode)5, (ap_o_mode)3, 0>, 10, nnet::Op_max<ap_fixed<16, 6, (ap_q_mode)5, (ap_o_mode)3, 0> > >' (firmware/nnet_utils/nnet_common.h:45) automatically.\n",
      "INFO: [XFORM 203-602] Inlining function 'nnet::reduce<ap_fixed<16, 6, (ap_q_mode)5, (ap_o_mode)3, 0>, 2, nnet::Op_max<ap_fixed<16, 6, (ap_q_mode)5, (ap_o_mode)3, 0> > >' into 'nnet::reduce<ap_fixed<16, 6, (ap_q_mode)5, (ap_o_mode)3, 0>, 10, nnet::Op_max<ap_fixed<16, 6, (ap_q_mode)5, (ap_o_mode)3, 0> > >' (firmware/nnet_utils/nnet_common.h:45) automatically.\n",
      "INFO: [XFORM 203-602] Inlining function 'nnet::Op_max<ap_fixed<16, 6, (ap_q_mode)5, (ap_o_mode)3, 0> >::operator()' into 'nnet::reduce<ap_fixed<16, 6, (ap_q_mode)5, (ap_o_mode)3, 0>, 10, nnet::Op_max<ap_fixed<16, 6, (ap_q_mode)5, (ap_o_mode)3, 0> > >' (firmware/nnet_utils/nnet_common.h:45) automatically.\n",
      "INFO: [XFORM 203-602] Inlining function 'nnet::reduce<ap_fixed<18, 8, (ap_q_mode)0, (ap_o_mode)0, 0>, 2, nnet::Op_add<ap_fixed<18, 8, (ap_q_mode)0, (ap_o_mode)0, 0> > >' into 'nnet::reduce<ap_fixed<18, 8, (ap_q_mode)0, (ap_o_mode)0, 0>, 4, nnet::Op_add<ap_fixed<18, 8, (ap_q_mode)0, (ap_o_mode)0, 0> > >' (firmware/nnet_utils/nnet_common.h:45) automatically.\n",
      "INFO: [XFORM 203-602] Inlining function 'nnet::reduce<ap_fixed<18, 8, (ap_q_mode)0, (ap_o_mode)0, 0>, 4, nnet::Op_add<ap_fixed<18, 8, (ap_q_mode)0, (ap_o_mode)0, 0> > >' into 'nnet::reduce<ap_fixed<18, 8, (ap_q_mode)0, (ap_o_mode)0, 0>, 8, nnet::Op_add<ap_fixed<18, 8, (ap_q_mode)0, (ap_o_mode)0, 0> > >' (firmware/nnet_utils/nnet_common.h:45) automatically.\n",
      "INFO: [XFORM 203-602] Inlining function 'nnet::reduce<ap_fixed<18, 8, (ap_q_mode)0, (ap_o_mode)0, 0>, 8, nnet::Op_add<ap_fixed<18, 8, (ap_q_mode)0, (ap_o_mode)0, 0> > >' into 'nnet::reduce<ap_fixed<18, 8, (ap_q_mode)0, (ap_o_mode)0, 0>, 10, nnet::Op_add<ap_fixed<18, 8, (ap_q_mode)0, (ap_o_mode)0, 0> > >' (firmware/nnet_utils/nnet_common.h:45) automatically.\n",
      "INFO: [XFORM 203-602] Inlining function 'nnet::reduce<ap_fixed<18, 8, (ap_q_mode)0, (ap_o_mode)0, 0>, 2, nnet::Op_add<ap_fixed<18, 8, (ap_q_mode)0, (ap_o_mode)0, 0> > >' into 'nnet::reduce<ap_fixed<18, 8, (ap_q_mode)0, (ap_o_mode)0, 0>, 10, nnet::Op_add<ap_fixed<18, 8, (ap_q_mode)0, (ap_o_mode)0, 0> > >' (firmware/nnet_utils/nnet_common.h:45) automatically.\n",
      "INFO: [XFORM 203-602] Inlining function 'nnet::reduce<ap_fixed<16, 6, (ap_q_mode)5, (ap_o_mode)3, 0>, 10, nnet::Op_max<ap_fixed<16, 6, (ap_q_mode)5, (ap_o_mode)3, 0> > >' into 'nnet::softmax_stable<ap_fixed<16, 6, (ap_q_mode)5, (ap_o_mode)3, 0>, ap_fixed<16, 6, (ap_q_mode)5, (ap_o_mode)3, 0>, softmax_config19>' (firmware/nnet_utils/nnet_activation.h:239) automatically.\n",
      "INFO: [XFORM 203-602] Inlining function 'nnet::softmax_idx_from_real_val<ap_fixed<16, 6, (ap_q_mode)5, (ap_o_mode)3, 0>, softmax_config19>' into 'nnet::softmax_stable<ap_fixed<16, 6, (ap_q_mode)5, (ap_o_mode)3, 0>, ap_fixed<16, 6, (ap_q_mode)5, (ap_o_mode)3, 0>, softmax_config19>' (firmware/nnet_utils/nnet_activation.h:254) automatically.\n",
      "INFO: [XFORM 203-602] Inlining function 'nnet::reduce<ap_fixed<18, 8, (ap_q_mode)0, (ap_o_mode)0, 0>, 10, nnet::Op_add<ap_fixed<18, 8, (ap_q_mode)0, (ap_o_mode)0, 0> > >' into 'nnet::softmax_stable<ap_fixed<16, 6, (ap_q_mode)5, (ap_o_mode)3, 0>, ap_fixed<16, 6, (ap_q_mode)5, (ap_o_mode)3, 0>, softmax_config19>' (firmware/nnet_utils/nnet_activation.h:262) automatically.\n",
      "INFO: [XFORM 203-602] Inlining function 'nnet::softmax_idx_from_real_val<ap_fixed<18, 8, (ap_q_mode)0, (ap_o_mode)0, 0>, softmax_config19>' into 'nnet::softmax_stable<ap_fixed<16, 6, (ap_q_mode)5, (ap_o_mode)3, 0>, ap_fixed<16, 6, (ap_q_mode)5, (ap_o_mode)3, 0>, softmax_config19>' (firmware/nnet_utils/nnet_activation.h:265) automatically.\n",
      "INFO: [HLS 200-111] Finished Checking Synthesizability Time (s): cpu = 00:00:30 ; elapsed = 00:00:32 . Memory (MB): peak = 1869.238 ; gain = 1233.949 ; free physical = 103541 ; free virtual = 128206\n",
      "INFO: [XFORM 203-502] Unrolling all loops for pipelining in function 'nnet::softmax_stable<ap_fixed<16, 6, (ap_q_mode)5, (ap_o_mode)3, 0>, ap_fixed<16, 6, (ap_q_mode)5, (ap_o_mode)3, 0>, softmax_config19>' (firmware/nnet_utils/nnet_activation.h:217:46).\n",
      "INFO: [XFORM 203-502] Unrolling all loops for pipelining in function 'nnet::dense_latency<ap_fixed<16, 6, (ap_q_mode)5, (ap_o_mode)3, 0>, ap_fixed<16, 6, (ap_q_mode)5, (ap_o_mode)3, 0>, config17>' (firmware/nnet_utils/nnet_dense_latency.h:17:48).\n",
      "INFO: [XFORM 203-502] Unrolling all loops for pipelining in function 'nnet::relu<ap_fixed<16, 6, (ap_q_mode)5, (ap_o_mode)3, 0>, ap_fixed<16, 6, (ap_q_mode)5, (ap_o_mode)3, 0>, relu_config16>' (firmware/nnet_utils/nnet_activation.h:40:43).\n",
      "INFO: [XFORM 203-502] Unrolling all loops for pipelining in function 'nnet::dense_latency<ap_fixed<16, 6, (ap_q_mode)5, (ap_o_mode)3, 0>, ap_fixed<16, 6, (ap_q_mode)5, (ap_o_mode)3, 0>, config14>' (firmware/nnet_utils/nnet_dense_latency.h:17:48).\n",
      "INFO: [XFORM 203-502] Unrolling all loops for pipelining in function 'nnet::relu<ap_fixed<16, 6, (ap_q_mode)5, (ap_o_mode)3, 0>, ap_fixed<16, 6, (ap_q_mode)5, (ap_o_mode)3, 0>, relu_config13>' (firmware/nnet_utils/nnet_activation.h:40:43).\n",
      "INFO: [XFORM 203-502] Unrolling all loops for pipelining in function 'nnet::dense_latency<ap_fixed<16, 6, (ap_q_mode)5, (ap_o_mode)3, 0>, ap_fixed<16, 6, (ap_q_mode)5, (ap_o_mode)3, 0>, config11>' (firmware/nnet_utils/nnet_dense_latency.h:17:48).\n",
      "INFO: [XFORM 203-502] Unrolling all loops for pipelining in function 'nnet::pooling2d_cl<ap_fixed<16, 6, (ap_q_mode)5, (ap_o_mode)3, 0>, ap_fixed<16, 6, (ap_q_mode)5, (ap_o_mode)3, 0>, config9>' (firmware/nnet_utils/nnet_pooling.h:202:29).\n",
      "INFO: [XFORM 203-502] Unrolling all loops for pipelining in function 'nnet::max<ap_fixed<16, 6, (ap_q_mode)5, (ap_o_mode)3, 0>, 4>' (firmware/nnet_utils/nnet_pooling.h:10:28).\n",
      "INFO: [XFORM 203-502] Unrolling all loops for pipelining in function 'nnet::relu<ap_fixed<16, 6, (ap_q_mode)5, (ap_o_mode)3, 0>, ap_fixed<16, 6, (ap_q_mode)5, (ap_o_mode)3, 0>, relu_config8>' (firmware/nnet_utils/nnet_activation.h:40:43).\n",
      "INFO: [XFORM 203-502] Unrolling all loops for pipelining in function 'nnet::separable_conv_2d_cl<ap_fixed<16, 6, (ap_q_mode)5, (ap_o_mode)3, 0>, ap_fixed<16, 6, (ap_q_mode)5, (ap_o_mode)3, 0>, ap_fixed<16, 6, (ap_q_mode)5, (ap_o_mode)3, 0>, config6>' (firmware/nnet_utils/nnet_sepconv2d.h:63:34).\n",
      "WARNING: [XFORM 203-505] Ignored pipeline directive for loop 'pw_loop1' (firmware/nnet_utils/nnet_conv2d.h:67) because its parent loop or function is pipelined.\n",
      "INFO: [XFORM 203-502] Unrolling all loops for pipelining in function 'nnet::relu<ap_fixed<16, 6, (ap_q_mode)5, (ap_o_mode)3, 0>, ap_fixed<16, 6, (ap_q_mode)5, (ap_o_mode)3, 0>, relu_config5>' (firmware/nnet_utils/nnet_activation.h:40:43).\n",
      "INFO: [XFORM 203-502] Unrolling all loops for pipelining in function 'nnet::separable_conv_2d_cl<ap_fixed<16, 6, (ap_q_mode)5, (ap_o_mode)3, 0>, ap_fixed<16, 6, (ap_q_mode)5, (ap_o_mode)3, 0>, ap_fixed<16, 6, (ap_q_mode)5, (ap_o_mode)3, 0>, config3>' (firmware/nnet_utils/nnet_sepconv2d.h:63:34).\n",
      "WARNING: [XFORM 203-505] Ignored pipeline directive for loop 'pw_loop1' (firmware/nnet_utils/nnet_conv2d.h:67) because its parent loop or function is pipelined.\n",
      "INFO: [XFORM 203-502] Unrolling all loops for pipelining in function 'nnet::pooling2d_cl<ap_fixed<12, 11, (ap_q_mode)5, (ap_o_mode)3, 0>, ap_fixed<16, 6, (ap_q_mode)5, (ap_o_mode)3, 0>, config2>' (firmware/nnet_utils/nnet_pooling.h:202:29).\n",
      "INFO: [XFORM 203-502] Unrolling all loops for pipelining in function 'nnet::max<ap_fixed<12, 11, (ap_q_mode)5, (ap_o_mode)3, 0>, 16>' (firmware/nnet_utils/nnet_pooling.h:10:28).\n",
      "INFO: [HLS 200-489] Unrolling loop 'Loop-1' (firmware/nnet_utils/nnet_activation.h:243) in function 'nnet::softmax_stable<ap_fixed<16, 6, (ap_q_mode)5, (ap_o_mode)3, 0>, ap_fixed<16, 6, (ap_q_mode)5, (ap_o_mode)3, 0>, softmax_config19>' completely with a factor of 10.\n",
      "INFO: [HLS 200-489] Unrolling loop 'Loop-2' (firmware/nnet_utils/nnet_activation.h:252) in function 'nnet::softmax_stable<ap_fixed<16, 6, (ap_q_mode)5, (ap_o_mode)3, 0>, ap_fixed<16, 6, (ap_q_mode)5, (ap_o_mode)3, 0>, softmax_config19>' completely with a factor of 10.\n",
      "INFO: [HLS 200-489] Unrolling loop 'Loop-3' (firmware/nnet_utils/nnet_activation.h:266) in function 'nnet::softmax_stable<ap_fixed<16, 6, (ap_q_mode)5, (ap_o_mode)3, 0>, ap_fixed<16, 6, (ap_q_mode)5, (ap_o_mode)3, 0>, softmax_config19>' completely with a factor of 10.\n",
      "INFO: [HLS 200-489] Unrolling loop 'Product1' (firmware/nnet_utils/nnet_dense_latency.h:37) in function 'nnet::dense_latency<ap_fixed<16, 6, (ap_q_mode)5, (ap_o_mode)3, 0>, ap_fixed<16, 6, (ap_q_mode)5, (ap_o_mode)3, 0>, config17>' completely with a factor of 40.\n",
      "INFO: [HLS 200-489] Unrolling loop 'Product2' (firmware/nnet_utils/nnet_dense_latency.h:40) in function 'nnet::dense_latency<ap_fixed<16, 6, (ap_q_mode)5, (ap_o_mode)3, 0>, ap_fixed<16, 6, (ap_q_mode)5, (ap_o_mode)3, 0>, config17>' completely with a factor of 10.\n",
      "INFO: [HLS 200-489] Unrolling loop 'ResetAccum' (firmware/nnet_utils/nnet_dense_latency.h:48) in function 'nnet::dense_latency<ap_fixed<16, 6, (ap_q_mode)5, (ap_o_mode)3, 0>, ap_fixed<16, 6, (ap_q_mode)5, (ap_o_mode)3, 0>, config17>' completely with a factor of 10.\n",
      "INFO: [HLS 200-489] Unrolling loop 'Accum1' (firmware/nnet_utils/nnet_dense_latency.h:54) in function 'nnet::dense_latency<ap_fixed<16, 6, (ap_q_mode)5, (ap_o_mode)3, 0>, ap_fixed<16, 6, (ap_q_mode)5, (ap_o_mode)3, 0>, config17>' completely with a factor of 40.\n",
      "INFO: [HLS 200-489] Unrolling loop 'Accum2' (firmware/nnet_utils/nnet_dense_latency.h:56) in function 'nnet::dense_latency<ap_fixed<16, 6, (ap_q_mode)5, (ap_o_mode)3, 0>, ap_fixed<16, 6, (ap_q_mode)5, (ap_o_mode)3, 0>, config17>' completely with a factor of 10.\n",
      "INFO: [HLS 200-489] Unrolling loop 'Result' (firmware/nnet_utils/nnet_dense_latency.h:64) in function 'nnet::dense_latency<ap_fixed<16, 6, (ap_q_mode)5, (ap_o_mode)3, 0>, ap_fixed<16, 6, (ap_q_mode)5, (ap_o_mode)3, 0>, config17>' completely with a factor of 10.\n",
      "INFO: [HLS 200-489] Unrolling loop 'Loop-1' (firmware/nnet_utils/nnet_activation.h:43) in function 'nnet::relu<ap_fixed<16, 6, (ap_q_mode)5, (ap_o_mode)3, 0>, ap_fixed<16, 6, (ap_q_mode)5, (ap_o_mode)3, 0>, relu_config16>' completely with a factor of 40.\n",
      "INFO: [HLS 200-489] Unrolling loop 'Product1' (firmware/nnet_utils/nnet_dense_latency.h:37) in function 'nnet::dense_latency<ap_fixed<16, 6, (ap_q_mode)5, (ap_o_mode)3, 0>, ap_fixed<16, 6, (ap_q_mode)5, (ap_o_mode)3, 0>, config14>' completely with a factor of 20.\n",
      "INFO: [HLS 200-489] Unrolling loop 'Product2' (firmware/nnet_utils/nnet_dense_latency.h:40) in function 'nnet::dense_latency<ap_fixed<16, 6, (ap_q_mode)5, (ap_o_mode)3, 0>, ap_fixed<16, 6, (ap_q_mode)5, (ap_o_mode)3, 0>, config14>' completely with a factor of 40.\n",
      "INFO: [HLS 200-489] Unrolling loop 'ResetAccum' (firmware/nnet_utils/nnet_dense_latency.h:48) in function 'nnet::dense_latency<ap_fixed<16, 6, (ap_q_mode)5, (ap_o_mode)3, 0>, ap_fixed<16, 6, (ap_q_mode)5, (ap_o_mode)3, 0>, config14>' completely with a factor of 40.\n",
      "INFO: [HLS 200-489] Unrolling loop 'Accum1' (firmware/nnet_utils/nnet_dense_latency.h:54) in function 'nnet::dense_latency<ap_fixed<16, 6, (ap_q_mode)5, (ap_o_mode)3, 0>, ap_fixed<16, 6, (ap_q_mode)5, (ap_o_mode)3, 0>, config14>' completely with a factor of 20.\n",
      "INFO: [HLS 200-489] Unrolling loop 'Accum2' (firmware/nnet_utils/nnet_dense_latency.h:56) in function 'nnet::dense_latency<ap_fixed<16, 6, (ap_q_mode)5, (ap_o_mode)3, 0>, ap_fixed<16, 6, (ap_q_mode)5, (ap_o_mode)3, 0>, config14>' completely with a factor of 40.\n",
      "INFO: [HLS 200-489] Unrolling loop 'Result' (firmware/nnet_utils/nnet_dense_latency.h:64) in function 'nnet::dense_latency<ap_fixed<16, 6, (ap_q_mode)5, (ap_o_mode)3, 0>, ap_fixed<16, 6, (ap_q_mode)5, (ap_o_mode)3, 0>, config14>' completely with a factor of 40.\n",
      "INFO: [HLS 200-489] Unrolling loop 'Loop-1' (firmware/nnet_utils/nnet_activation.h:43) in function 'nnet::relu<ap_fixed<16, 6, (ap_q_mode)5, (ap_o_mode)3, 0>, ap_fixed<16, 6, (ap_q_mode)5, (ap_o_mode)3, 0>, relu_config13>' completely with a factor of 20.\n",
      "INFO: [HLS 200-489] Unrolling loop 'Product1' (firmware/nnet_utils/nnet_dense_latency.h:37) in function 'nnet::dense_latency<ap_fixed<16, 6, (ap_q_mode)5, (ap_o_mode)3, 0>, ap_fixed<16, 6, (ap_q_mode)5, (ap_o_mode)3, 0>, config11>' completely with a factor of 48.\n",
      "INFO: [HLS 200-489] Unrolling loop 'Product2' (firmware/nnet_utils/nnet_dense_latency.h:40) in function 'nnet::dense_latency<ap_fixed<16, 6, (ap_q_mode)5, (ap_o_mode)3, 0>, ap_fixed<16, 6, (ap_q_mode)5, (ap_o_mode)3, 0>, config11>' completely with a factor of 20.\n",
      "INFO: [HLS 200-489] Unrolling loop 'ResetAccum' (firmware/nnet_utils/nnet_dense_latency.h:48) in function 'nnet::dense_latency<ap_fixed<16, 6, (ap_q_mode)5, (ap_o_mode)3, 0>, ap_fixed<16, 6, (ap_q_mode)5, (ap_o_mode)3, 0>, config11>' completely with a factor of 20.\n",
      "INFO: [HLS 200-489] Unrolling loop 'Accum1' (firmware/nnet_utils/nnet_dense_latency.h:54) in function 'nnet::dense_latency<ap_fixed<16, 6, (ap_q_mode)5, (ap_o_mode)3, 0>, ap_fixed<16, 6, (ap_q_mode)5, (ap_o_mode)3, 0>, config11>' completely with a factor of 48.\n",
      "INFO: [HLS 200-489] Unrolling loop 'Accum2' (firmware/nnet_utils/nnet_dense_latency.h:56) in function 'nnet::dense_latency<ap_fixed<16, 6, (ap_q_mode)5, (ap_o_mode)3, 0>, ap_fixed<16, 6, (ap_q_mode)5, (ap_o_mode)3, 0>, config11>' completely with a factor of 20.\n",
      "INFO: [HLS 200-489] Unrolling loop 'Result' (firmware/nnet_utils/nnet_dense_latency.h:64) in function 'nnet::dense_latency<ap_fixed<16, 6, (ap_q_mode)5, (ap_o_mode)3, 0>, ap_fixed<16, 6, (ap_q_mode)5, (ap_o_mode)3, 0>, config11>' completely with a factor of 20.\n",
      "INFO: [HLS 200-489] Unrolling loop 'Loop-1' (firmware/nnet_utils/nnet_pooling.h:215) in function 'nnet::pooling2d_cl<ap_fixed<16, 6, (ap_q_mode)5, (ap_o_mode)3, 0>, ap_fixed<16, 6, (ap_q_mode)5, (ap_o_mode)3, 0>, config9>' completely with a factor of 3.\n",
      "INFO: [HLS 200-489] Unrolling loop 'Loop-1.1' (firmware/nnet_utils/nnet_pooling.h:217) in function 'nnet::pooling2d_cl<ap_fixed<16, 6, (ap_q_mode)5, (ap_o_mode)3, 0>, ap_fixed<16, 6, (ap_q_mode)5, (ap_o_mode)3, 0>, config9>' completely with a factor of 4.\n",
      "INFO: [HLS 200-489] Unrolling loop 'Loop-1.1.1' (firmware/nnet_utils/nnet_pooling.h:219) in function 'nnet::pooling2d_cl<ap_fixed<16, 6, (ap_q_mode)5, (ap_o_mode)3, 0>, ap_fixed<16, 6, (ap_q_mode)5, (ap_o_mode)3, 0>, config9>' completely with a factor of 4.\n",
      "INFO: [HLS 200-489] Unrolling loop 'Loop-1.1.1.1' (firmware/nnet_utils/nnet_pooling.h:225) in function 'nnet::pooling2d_cl<ap_fixed<16, 6, (ap_q_mode)5, (ap_o_mode)3, 0>, ap_fixed<16, 6, (ap_q_mode)5, (ap_o_mode)3, 0>, config9>' completely with a factor of 2.\n",
      "INFO: [HLS 200-489] Unrolling loop 'Loop-1.1.1.1.1' (firmware/nnet_utils/nnet_pooling.h:227) in function 'nnet::pooling2d_cl<ap_fixed<16, 6, (ap_q_mode)5, (ap_o_mode)3, 0>, ap_fixed<16, 6, (ap_q_mode)5, (ap_o_mode)3, 0>, config9>' completely with a factor of 2.\n",
      "INFO: [HLS 200-489] Unrolling loop 'Loop-1' (firmware/nnet_utils/nnet_pooling.h:12) in function 'nnet::max<ap_fixed<16, 6, (ap_q_mode)5, (ap_o_mode)3, 0>, 4>' completely with a factor of 3.\n",
      "INFO: [HLS 200-489] Unrolling loop 'Loop-1' (firmware/nnet_utils/nnet_activation.h:43) in function 'nnet::relu<ap_fixed<16, 6, (ap_q_mode)5, (ap_o_mode)3, 0>, ap_fixed<16, 6, (ap_q_mode)5, (ap_o_mode)3, 0>, relu_config8>' completely with a factor of 192.\n",
      "INFO: [HLS 200-489] Unrolling loop 'Loop-1' (firmware/nnet_utils/nnet_sepconv2d.h:84) in function 'nnet::separable_conv_2d_cl<ap_fixed<16, 6, (ap_q_mode)5, (ap_o_mode)3, 0>, ap_fixed<16, 6, (ap_q_mode)5, (ap_o_mode)3, 0>, ap_fixed<16, 6, (ap_q_mode)5, (ap_o_mode)3, 0>, config6>' completely with a factor of 3.\n",
      "INFO: [HLS 200-489] Unrolling loop 'Loop-1.1' (firmware/nnet_utils/nnet_sepconv2d.h:89) in function 'nnet::separable_conv_2d_cl<ap_fixed<16, 6, (ap_q_mode)5, (ap_o_mode)3, 0>, ap_fixed<16, 6, (ap_q_mode)5, (ap_o_mode)3, 0>, ap_fixed<16, 6, (ap_q_mode)5, (ap_o_mode)3, 0>, config6>' completely with a factor of 8.\n",
      "INFO: [HLS 200-489] Unrolling loop 'Loop-1.1.1' (firmware/nnet_utils/nnet_sepconv2d.h:92) in function 'nnet::separable_conv_2d_cl<ap_fixed<16, 6, (ap_q_mode)5, (ap_o_mode)3, 0>, ap_fixed<16, 6, (ap_q_mode)5, (ap_o_mode)3, 0>, ap_fixed<16, 6, (ap_q_mode)5, (ap_o_mode)3, 0>, config6>' completely with a factor of 8.\n",
      "INFO: [HLS 200-489] Unrolling loop 'Loop-1.1.1.1' (firmware/nnet_utils/nnet_sepconv2d.h:96) in function 'nnet::separable_conv_2d_cl<ap_fixed<16, 6, (ap_q_mode)5, (ap_o_mode)3, 0>, ap_fixed<16, 6, (ap_q_mode)5, (ap_o_mode)3, 0>, ap_fixed<16, 6, (ap_q_mode)5, (ap_o_mode)3, 0>, config6>' completely with a factor of 3.\n",
      "INFO: [HLS 200-489] Unrolling loop 'Loop-1.1.1.1.1' (firmware/nnet_utils/nnet_sepconv2d.h:98) in function 'nnet::separable_conv_2d_cl<ap_fixed<16, 6, (ap_q_mode)5, (ap_o_mode)3, 0>, ap_fixed<16, 6, (ap_q_mode)5, (ap_o_mode)3, 0>, ap_fixed<16, 6, (ap_q_mode)5, (ap_o_mode)3, 0>, config6>' completely with a factor of 3.\n",
      "INFO: [HLS 200-489] Unrolling loop 'pw_loop1' (firmware/nnet_utils/nnet_conv2d.h:67) in function 'nnet::separable_conv_2d_cl<ap_fixed<16, 6, (ap_q_mode)5, (ap_o_mode)3, 0>, ap_fixed<16, 6, (ap_q_mode)5, (ap_o_mode)3, 0>, ap_fixed<16, 6, (ap_q_mode)5, (ap_o_mode)3, 0>, config6>' completely with a factor of 8.\n",
      "INFO: [HLS 200-489] Unrolling loop 'pw_loop1_2' (firmware/nnet_utils/nnet_conv2d.h:70) in function 'nnet::separable_conv_2d_cl<ap_fixed<16, 6, (ap_q_mode)5, (ap_o_mode)3, 0>, ap_fixed<16, 6, (ap_q_mode)5, (ap_o_mode)3, 0>, ap_fixed<16, 6, (ap_q_mode)5, (ap_o_mode)3, 0>, config6>' completely with a factor of 8.\n",
      "INFO: [HLS 200-489] Unrolling loop 'pw_loop1_3' (firmware/nnet_utils/nnet_conv2d.h:73) in function 'nnet::separable_conv_2d_cl<ap_fixed<16, 6, (ap_q_mode)5, (ap_o_mode)3, 0>, ap_fixed<16, 6, (ap_q_mode)5, (ap_o_mode)3, 0>, ap_fixed<16, 6, (ap_q_mode)5, (ap_o_mode)3, 0>, config6>' completely with a factor of 3.\n",
      "INFO: [HLS 200-489] Unrolling loop 'pw_loop1_4' (firmware/nnet_utils/nnet_conv2d.h:77) in function 'nnet::separable_conv_2d_cl<ap_fixed<16, 6, (ap_q_mode)5, (ap_o_mode)3, 0>, ap_fixed<16, 6, (ap_q_mode)5, (ap_o_mode)3, 0>, ap_fixed<16, 6, (ap_q_mode)5, (ap_o_mode)3, 0>, config6>' completely with a factor of 3.\n",
      "INFO: [HLS 200-489] Unrolling loop 'Loop-1' (firmware/nnet_utils/nnet_activation.h:43) in function 'nnet::relu<ap_fixed<16, 6, (ap_q_mode)5, (ap_o_mode)3, 0>, ap_fixed<16, 6, (ap_q_mode)5, (ap_o_mode)3, 0>, relu_config5>' completely with a factor of 192.\n",
      "INFO: [HLS 200-489] Unrolling loop 'Loop-1' (firmware/nnet_utils/nnet_sepconv2d.h:84) in function 'nnet::separable_conv_2d_cl<ap_fixed<16, 6, (ap_q_mode)5, (ap_o_mode)3, 0>, ap_fixed<16, 6, (ap_q_mode)5, (ap_o_mode)3, 0>, ap_fixed<16, 6, (ap_q_mode)5, (ap_o_mode)3, 0>, config3>' completely with a factor of 3.\n",
      "INFO: [HLS 200-489] Unrolling loop 'Loop-1.1' (firmware/nnet_utils/nnet_sepconv2d.h:89) in function 'nnet::separable_conv_2d_cl<ap_fixed<16, 6, (ap_q_mode)5, (ap_o_mode)3, 0>, ap_fixed<16, 6, (ap_q_mode)5, (ap_o_mode)3, 0>, ap_fixed<16, 6, (ap_q_mode)5, (ap_o_mode)3, 0>, config3>' completely with a factor of 8.\n",
      "INFO: [HLS 200-489] Unrolling loop 'Loop-1.1.1' (firmware/nnet_utils/nnet_sepconv2d.h:92) in function 'nnet::separable_conv_2d_cl<ap_fixed<16, 6, (ap_q_mode)5, (ap_o_mode)3, 0>, ap_fixed<16, 6, (ap_q_mode)5, (ap_o_mode)3, 0>, ap_fixed<16, 6, (ap_q_mode)5, (ap_o_mode)3, 0>, config3>' completely with a factor of 8.\n",
      "INFO: [HLS 200-489] Unrolling loop 'Loop-1.1.1.1' (firmware/nnet_utils/nnet_sepconv2d.h:96) in function 'nnet::separable_conv_2d_cl<ap_fixed<16, 6, (ap_q_mode)5, (ap_o_mode)3, 0>, ap_fixed<16, 6, (ap_q_mode)5, (ap_o_mode)3, 0>, ap_fixed<16, 6, (ap_q_mode)5, (ap_o_mode)3, 0>, config3>' completely with a factor of 3.\n",
      "INFO: [HLS 200-489] Unrolling loop 'Loop-1.1.1.1.1' (firmware/nnet_utils/nnet_sepconv2d.h:98) in function 'nnet::separable_conv_2d_cl<ap_fixed<16, 6, (ap_q_mode)5, (ap_o_mode)3, 0>, ap_fixed<16, 6, (ap_q_mode)5, (ap_o_mode)3, 0>, ap_fixed<16, 6, (ap_q_mode)5, (ap_o_mode)3, 0>, config3>' completely with a factor of 3.\n",
      "INFO: [HLS 200-489] Unrolling loop 'pw_loop1' (firmware/nnet_utils/nnet_conv2d.h:67) in function 'nnet::separable_conv_2d_cl<ap_fixed<16, 6, (ap_q_mode)5, (ap_o_mode)3, 0>, ap_fixed<16, 6, (ap_q_mode)5, (ap_o_mode)3, 0>, ap_fixed<16, 6, (ap_q_mode)5, (ap_o_mode)3, 0>, config3>' completely with a factor of 8.\n",
      "INFO: [HLS 200-489] Unrolling loop 'pw_loop1_2' (firmware/nnet_utils/nnet_conv2d.h:70) in function 'nnet::separable_conv_2d_cl<ap_fixed<16, 6, (ap_q_mode)5, (ap_o_mode)3, 0>, ap_fixed<16, 6, (ap_q_mode)5, (ap_o_mode)3, 0>, ap_fixed<16, 6, (ap_q_mode)5, (ap_o_mode)3, 0>, config3>' completely with a factor of 8.\n",
      "INFO: [HLS 200-489] Unrolling loop 'pw_loop1_3' (firmware/nnet_utils/nnet_conv2d.h:73) in function 'nnet::separable_conv_2d_cl<ap_fixed<16, 6, (ap_q_mode)5, (ap_o_mode)3, 0>, ap_fixed<16, 6, (ap_q_mode)5, (ap_o_mode)3, 0>, ap_fixed<16, 6, (ap_q_mode)5, (ap_o_mode)3, 0>, config3>' completely with a factor of 3.\n",
      "INFO: [HLS 200-489] Unrolling loop 'pw_loop1_4' (firmware/nnet_utils/nnet_conv2d.h:77) in function 'nnet::separable_conv_2d_cl<ap_fixed<16, 6, (ap_q_mode)5, (ap_o_mode)3, 0>, ap_fixed<16, 6, (ap_q_mode)5, (ap_o_mode)3, 0>, ap_fixed<16, 6, (ap_q_mode)5, (ap_o_mode)3, 0>, config3>' completely with a factor of 3.\n",
      "INFO: [HLS 200-489] Unrolling loop 'Loop-1' (firmware/nnet_utils/nnet_pooling.h:215) in function 'nnet::pooling2d_cl<ap_fixed<12, 11, (ap_q_mode)5, (ap_o_mode)3, 0>, ap_fixed<16, 6, (ap_q_mode)5, (ap_o_mode)3, 0>, config2>' completely with a factor of 3.\n",
      "INFO: [HLS 200-489] Unrolling loop 'Loop-1.1' (firmware/nnet_utils/nnet_pooling.h:217) in function 'nnet::pooling2d_cl<ap_fixed<12, 11, (ap_q_mode)5, (ap_o_mode)3, 0>, ap_fixed<16, 6, (ap_q_mode)5, (ap_o_mode)3, 0>, config2>' completely with a factor of 8.\n",
      "INFO: [HLS 200-489] Unrolling loop 'Loop-1.1.1' (firmware/nnet_utils/nnet_pooling.h:219) in function 'nnet::pooling2d_cl<ap_fixed<12, 11, (ap_q_mode)5, (ap_o_mode)3, 0>, ap_fixed<16, 6, (ap_q_mode)5, (ap_o_mode)3, 0>, config2>' completely with a factor of 8.\n",
      "INFO: [HLS 200-489] Unrolling loop 'Loop-1.1.1.1' (firmware/nnet_utils/nnet_pooling.h:225) in function 'nnet::pooling2d_cl<ap_fixed<12, 11, (ap_q_mode)5, (ap_o_mode)3, 0>, ap_fixed<16, 6, (ap_q_mode)5, (ap_o_mode)3, 0>, config2>' completely with a factor of 4.\n",
      "INFO: [HLS 200-489] Unrolling loop 'Loop-1.1.1.1.1' (firmware/nnet_utils/nnet_pooling.h:227) in function 'nnet::pooling2d_cl<ap_fixed<12, 11, (ap_q_mode)5, (ap_o_mode)3, 0>, ap_fixed<16, 6, (ap_q_mode)5, (ap_o_mode)3, 0>, config2>' completely with a factor of 4.\n",
      "INFO: [HLS 200-489] Unrolling loop 'Loop-1' (firmware/nnet_utils/nnet_pooling.h:12) in function 'nnet::max<ap_fixed<12, 11, (ap_q_mode)5, (ap_o_mode)3, 0>, 16>' completely with a factor of 15.\n",
      "INFO: [XFORM 203-102] Partitioning array 'd_xi_xmax.V' (firmware/nnet_utils/nnet_activation.h:242) automatically.\n",
      "ERROR: [XFORM 203-103] Cannot partition array 'layer2_out.V' (firmware/myproject.cpp:45): array access out of bound (firmware/nnet_utils/nnet_sepconv2d.h:102:15).\n",
      "ERROR: [HLS 200-70] Pre-synthesis failed.\n",
      "command 'ap_source' returned error code\n",
      "    while executing\n",
      "\"source build_prj.tcl\"\n",
      "    (\"uplevel\" body line 1)\n",
      "    invoked from within\n",
      "\"uplevel \\#0 [list source $arg] \"\n",
      "\n",
      "INFO: [Common 17-206] Exiting vivado_hls at Mon Jan 22 14:56:01 2024...\n",
      "CSynthesis report not found.\n",
      "Vivado synthesis report not found.\n",
      "Cosim report not found.\n",
      "Timing report not found.\n"
     ]
    },
    {
     "data": {
      "text/plain": [
       "{}"
      ]
     },
     "execution_count": 31,
     "metadata": {},
     "output_type": "execute_result"
    }
   ],
   "source": [
    "hls_model.build(csim=False) #must make the input of Separable 10,10,3"
   ]
  },
  {
   "attachments": {},
   "cell_type": "markdown",
   "id": "091da9bd-1061-4ae4-8a6c-65ab80d758cc",
   "metadata": {},
   "source": [
    "## Trying Trace"
   ]
  },
  {
   "cell_type": "code",
   "execution_count": null,
   "id": "f5dd345a-075b-4256-84f4-b71ce9d6fea2",
   "metadata": {},
   "outputs": [],
   "source": [
    "#config['LayerName']['Input']['Trace']=True"
   ]
  },
  {
   "cell_type": "code",
   "execution_count": null,
   "id": "3f03b2dd-3dfc-42c8-8dc9-9716f0a1fb67",
   "metadata": {},
   "outputs": [
    {
     "name": "stdout",
     "output_type": "stream",
     "text": [
      "Recompiling myproject with tracing\n",
      "Writing HLS project\n",
      "WARNING:tensorflow:Compiled the loaded model, but the compiled metrics have yet to be built. `model.compile_metrics` will be empty until you train or evaluate the model.\n",
      "Done\n"
     ]
    }
   ],
   "source": [
    "weigth = hls_model.trace(x)"
   ]
  },
  {
   "cell_type": "code",
   "execution_count": null,
   "id": "7146a7f6-38e3-4525-a36e-4453a1842192",
   "metadata": {},
   "outputs": [],
   "source": [
    "x = np.random.rand(10, 3, 32, 32)"
   ]
  },
  {
   "cell_type": "code",
   "execution_count": null,
   "id": "8e88c549-f23f-4eed-a05f-813014bd60a6",
   "metadata": {},
   "outputs": [
    {
     "data": {
      "text/plain": [
       "(array([[0.        , 0.        , 0.79980469, 0.        , 0.        ,\n",
       "         0.        , 0.        , 0.20214844, 0.        , 0.        ],\n",
       "        [0.57128906, 0.11230469, 0.01269531, 0.03320312, 0.06347656,\n",
       "         0.03320312, 0.11914062, 0.00878906, 0.12695312, 0.04394531],\n",
       "        [0.57128906, 0.11230469, 0.01269531, 0.03320312, 0.06347656,\n",
       "         0.03320312, 0.11914062, 0.00878906, 0.12695312, 0.04394531],\n",
       "        [0.57128906, 0.11230469, 0.01269531, 0.03320312, 0.06347656,\n",
       "         0.03320312, 0.11914062, 0.00878906, 0.12695312, 0.04394531],\n",
       "        [0.57128906, 0.11230469, 0.01269531, 0.03320312, 0.06347656,\n",
       "         0.03320312, 0.11914062, 0.00878906, 0.12695312, 0.04394531],\n",
       "        [0.57128906, 0.11230469, 0.01269531, 0.03320312, 0.06347656,\n",
       "         0.03320312, 0.11914062, 0.00878906, 0.12695312, 0.04394531],\n",
       "        [0.57128906, 0.11230469, 0.01269531, 0.03320312, 0.06347656,\n",
       "         0.03320312, 0.11914062, 0.00878906, 0.12695312, 0.04394531],\n",
       "        [0.57128906, 0.11230469, 0.01269531, 0.03320312, 0.06347656,\n",
       "         0.03320312, 0.11914062, 0.00878906, 0.12695312, 0.04394531],\n",
       "        [0.57128906, 0.11230469, 0.01269531, 0.03320312, 0.06347656,\n",
       "         0.03320312, 0.11914062, 0.00878906, 0.12695312, 0.04394531],\n",
       "        [0.57128906, 0.11230469, 0.01269531, 0.03320312, 0.06347656,\n",
       "         0.03320312, 0.11914062, 0.00878906, 0.12695312, 0.04394531]]),\n",
       " {})"
      ]
     },
     "execution_count": 43,
     "metadata": {},
     "output_type": "execute_result"
    }
   ],
   "source": []
  },
  {
   "cell_type": "code",
   "execution_count": null,
   "id": "202de3c4-493b-480c-8cb2-46446d9cc5ca",
   "metadata": {},
   "outputs": [],
   "source": []
  }
 ],
 "metadata": {
  "kernelspec": {
   "display_name": "sepConv_V",
   "language": "python",
   "name": "sepconv_v"
  }
 },
 "nbformat": 4,
 "nbformat_minor": 5
}
